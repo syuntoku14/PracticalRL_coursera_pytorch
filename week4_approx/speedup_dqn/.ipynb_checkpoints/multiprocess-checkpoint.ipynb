{
 "cells": [
  {
   "cell_type": "code",
   "execution_count": 3,
   "metadata": {
    "scrolled": true
   },
   "outputs": [
    {
     "name": "stdout",
     "output_type": "stream",
     "text": [
      "Hello Bob\n",
      "Sleeping... 3s\n",
      "Process started.\n",
      "Good morning Bob\n",
      "Process joined.\n"
     ]
    }
   ],
   "source": [
    "from multiprocessing import Process\n",
    "import time\n",
    "\n",
    "# 呼び出したい関数\n",
    "def f1(name):\n",
    "    print(\"Hello\", name)\n",
    "    print(\"Sleeping... 3s\")\n",
    "    time.sleep(3)\n",
    "    print(\"Good morning\", name)\n",
    "\n",
    "if __name__ == \"__main__\":\n",
    "    # サブプロセスを作成します\n",
    "    p = Process(target=f1, args=(\"Bob\",))\n",
    "    # 開始します\n",
    "    p.start()\n",
    "    print(\"Process started.\")\n",
    "    # サブプロセス終了まで待ちます\n",
    "    p.join()\n",
    "    print(\"Process joined.\")"
   ]
  },
  {
   "cell_type": "code",
   "execution_count": 4,
   "metadata": {},
   "outputs": [
    {
     "name": "stdout",
     "output_type": "stream",
     "text": [
      "[42, None, 'Hello']\n"
     ]
    }
   ],
   "source": [
    "from multiprocessing import Queue\n",
    "\n",
    "def f2(q):\n",
    "    time.sleep(3)\n",
    "    # 3秒後に、キューに値を渡します.\n",
    "    q.put([42, None, \"Hello\"])\n",
    "\n",
    "if __name__ == \"__main__\":\n",
    "    # スレッド間でやり取りするためのキューを作成します.\n",
    "    q = Queue()\n",
    "    # キューを引数に渡して、サブプロセスを作成します.\n",
    "    p = Process(target=f2, args=(q,))\n",
    "    # サブプロセスを開始します.\n",
    "    p.start()\n",
    "    # q.get()できるまで待ちます.\n",
    "    print(q.get())\n",
    "    # サブプロセス完了を待ちます.\n",
    "    p.join()"
   ]
  },
  {
   "cell_type": "code",
   "execution_count": 7,
   "metadata": {},
   "outputs": [
    {
     "name": "stdout",
     "output_type": "stream",
     "text": [
      "3.1415926\n",
      "[0, -1, -2, -3, -4, -5, -6, -7, -8, -9]\n"
     ]
    }
   ],
   "source": [
    "# numpyArrayなどを渡せないので無理？\n",
    "from multiprocessing import Value, Array\n",
    "\n",
    "def f5(n, a):\n",
    "    n.value = 3.1415926\n",
    "    for i in range(len(a)):\n",
    "        a[i] *= -1\n",
    "\n",
    "if __name__ == \"__main__\":\n",
    "    # 共有メモリ（Value）を作成します.\n",
    "    num = Value('d', 0.0)\n",
    "    # 共有メモリ（Array）を作成します.\n",
    "    arr = Array('i', range(10))\n",
    "    # サブプロセスを作り、実行します.\n",
    "    p = Process(target=f5, args=(num, arr))\n",
    "    p.start()\n",
    "    p.join()\n",
    "    # 共有メモリ（Value）から値を取り出します\n",
    "    print(num.value)\n",
    "    # 共有メモリ（Array）から値を取り出します\n",
    "    print(arr[:])"
   ]
  },
  {
   "cell_type": "code",
   "execution_count": 8,
   "metadata": {},
   "outputs": [
    {
     "name": "stdout",
     "output_type": "stream",
     "text": [
      "{1: '1', '2': 2, 0.25: None}\n",
      "[9, 8, 7, 6, 5, 4, 3, 2, 1, 0]\n"
     ]
    }
   ],
   "source": [
    "from multiprocessing import Manager\n",
    "\n",
    "def f6(d, l):\n",
    "    # 辞書型に値を詰め込みます.\n",
    "    d[1] = '1'\n",
    "    d[\"2\"] = 2\n",
    "    d[0.25] = None\n",
    "    # 配列を操作します（ここでは逆順に）.\n",
    "    l.reverse()\n",
    "\n",
    "if __name__ == \"__main__\":\n",
    "    # マネージャーを生成します.\n",
    "    with Manager() as manager:\n",
    "        # マネージャーから辞書型を生成します.\n",
    "        d = manager.dict()\n",
    "        # マネージャーから配列を生成します.\n",
    "        l = manager.list(range(10))\n",
    "        # サブプロセスを作り実行します.\n",
    "        p = Process(target=f6, args=(d,l))\n",
    "        p.start()\n",
    "        p.join()\n",
    "        # 辞書からデータを取り出します.\n",
    "        print(d)\n",
    "        # 配列からデータを取り出します.\n",
    "        print(l)"
   ]
  },
  {
   "cell_type": "code",
   "execution_count": null,
   "metadata": {},
   "outputs": [],
   "source": []
  }
 ],
 "metadata": {
  "kernelspec": {
   "display_name": "Python 2",
   "language": "python",
   "name": "python2"
  },
  "language_info": {
   "codemirror_mode": {
    "name": "ipython",
    "version": 2
   },
   "file_extension": ".py",
   "mimetype": "text/x-python",
   "name": "python",
   "nbconvert_exporter": "python",
   "pygments_lexer": "ipython2",
   "version": "2.7.12"
  }
 },
 "nbformat": 4,
 "nbformat_minor": 2
}
