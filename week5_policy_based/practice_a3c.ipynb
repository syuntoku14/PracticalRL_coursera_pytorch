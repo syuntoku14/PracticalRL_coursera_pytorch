{
 "cells": [
  {
   "cell_type": "markdown",
   "metadata": {},
   "source": [
    "Good instruction of a2c\n",
    "https://hackernoon.com/intuitive-rl-intro-to-advantage-actor-critic-a2c-4ff545978752"
   ]
  },
  {
   "cell_type": "markdown",
   "metadata": {},
   "source": [
    "### Deep Kung-Fu with advantage actor-critic\n",
    "\n",
    "In this notebook you'll build a deep reinforcement learning agent for atari [KungFuMaster](https://gym.openai.com/envs/KungFuMaster-v0/) and train it with advantage actor-critic.\n",
    "\n",
    "![http://www.retroland.com/wp-content/uploads/2011/07/King-Fu-Master.jpg](https://camo.githubusercontent.com/57544b6f5589792d2056107297b1a4bce09ff391/687474703a2f2f7777772e726574726f6c616e642e636f6d2f77702d636f6e74656e742f75706c6f6164732f323031312f30372f4b696e672d46752d4d61737465722e6a7067)"
   ]
  },
  {
   "cell_type": "code",
   "execution_count": 1,
   "metadata": {},
   "outputs": [],
   "source": [
    "from __future__ import print_function, division\n",
    "from IPython.core import display\n",
    "import matplotlib.pyplot as plt\n",
    "%matplotlib inline\n",
    "import numpy as np\n",
    "\n",
    "#If you are running on a server, launch xvfb to record game videos\n",
    "#Please make sure you have xvfb installed\n",
    "import os\n",
    "if os.environ.get(\"DISPLAY\") is str and len(os.environ.get(\"DISPLAY\"))!=0:\n",
    "    !bash ../xvfb start\n",
    "    %env DISPLAY=:1"
   ]
  },
  {
   "cell_type": "markdown",
   "metadata": {},
   "source": [
    "For starters, let's take a look at the game itself:\n",
    "* Image resized to 42x42 and grayscale to run faster\n",
    "* Rewards divided by 100 'cuz they are all divisible by 100\n",
    "* Agent sees last 4 frames of game to account for object velocity"
   ]
  },
  {
   "cell_type": "code",
   "execution_count": 2,
   "metadata": {},
   "outputs": [
    {
     "name": "stdout",
     "output_type": "stream",
     "text": [
      "\u001b[33mWARN: gym.spaces.Box autodetected dtype as <class 'numpy.float32'>. Please provide explicit dtype.\u001b[0m\n",
      "Observation shape: (4, 42, 42)\n",
      "Num actions: 14\n",
      "Action names: ['NOOP', 'UP', 'RIGHT', 'LEFT', 'DOWN', 'DOWNRIGHT', 'DOWNLEFT', 'RIGHTFIRE', 'LEFTFIRE', 'DOWNFIRE', 'UPRIGHTFIRE', 'UPLEFTFIRE', 'DOWNRIGHTFIRE', 'DOWNLEFTFIRE']\n"
     ]
    }
   ],
   "source": [
    "import gym\n",
    "from atari_util import PreprocessAtari\n",
    "\n",
    "def make_env():\n",
    "    env = gym.make(\"KungFuMasterDeterministic-v0\")\n",
    "    env = PreprocessAtari(env, height=42, width=42,\n",
    "                          crop = lambda img: img[60:-30, 5:],\n",
    "                          dim_order = 'pytorch',\n",
    "                          color=False, n_frames=4,\n",
    "                          reward_scale = 0.01)\n",
    "    return env\n",
    "\n",
    "env = make_env()\n",
    "\n",
    "obs_shape = env.observation_space.shape\n",
    "n_actions = env.action_space.n\n",
    "\n",
    "print(\"Observation shape:\", obs_shape)\n",
    "print(\"Num actions:\", n_actions)\n",
    "print(\"Action names:\", env.env.env.get_action_meanings())"
   ]
  },
  {
   "cell_type": "code",
   "execution_count": 3,
   "metadata": {},
   "outputs": [
    {
     "data": {
      "image/png": "[encoded data removed]",
      "text/plain": [
       "<Figure size 432x288 with 1 Axes>"
      ]
     },
     "metadata": {
      "needs_background": "light"
     },
     "output_type": "display_data"
    },
    {
     "data": {
      "image/png": "[encoded data removed]",
      "text/plain": [
       "<Figure size 432x288 with 1 Axes>"
      ]
     },
     "metadata": {
      "needs_background": "light"
     },
     "output_type": "display_data"
    }
   ],
   "source": [
    "s = env.reset()\n",
    "for _ in range(100):\n",
    "    s, _, _, _ = env.step(env.action_space.sample())\n",
    "\n",
    "plt.title('Game image')\n",
    "plt.imshow(env.render('rgb_array'))\n",
    "plt.show()\n",
    "\n",
    "plt.title('Agent observation (4-frame buffer)')\n",
    "plt.imshow(s.transpose([1,0,2]).reshape([42,-1]))\n",
    "plt.show()"
   ]
  },
  {
   "cell_type": "markdown",
   "metadata": {},
   "source": [
    "### Build an agent\n",
    "\n",
    "We now have to build an agent for actor-critic training - a convolutional neural network that converts states into action probabilities $\\pi$ and state values $V$.\n",
    "\n",
    "Your assignment here is to build and apply a neural network - with any framework you want. \n",
    "\n",
    "For starters, we want you to implement this architecture:\n",
    "![img](https://github.com/BoYanSTKO/Practical_RL-coursera/blob/master/week5_policy_based/img/nnet_arch.png?raw=true)\n",
    "\n",
    "After your agent gets mean reward above 50, we encourage you to experiment with model architecture to score even better."
   ]
  },
  {
   "cell_type": "code",
   "execution_count": 4,
   "metadata": {},
   "outputs": [
    {
     "data": {
      "text/plain": [
       "device(type='cpu')"
      ]
     },
     "execution_count": 4,
     "metadata": {},
     "output_type": "execute_result"
    }
   ],
   "source": [
    "import torch\n",
    "import torch.nn as nn\n",
    "import torch.optim as optim\n",
    "import torch.nn.functional as F\n",
    "from torch.distributions import Categorical\n",
    "import torchvision.transforms as T\n",
    "from torchsummary import summary\n",
    "import torch.autograd.variable as Variable\n",
    "\n",
    "device = torch.device('cuda' if torch.cuda.is_available() else 'cpu')\n",
    "device"
   ]
  },
  {
   "cell_type": "code",
   "execution_count": 5,
   "metadata": {},
   "outputs": [
    {
     "data": {
      "text/plain": [
       "4"
      ]
     },
     "execution_count": 5,
     "metadata": {},
     "output_type": "execute_result"
    }
   ],
   "source": [
    "def outputSize(in_size, kernel_size, stride, padding):\n",
    "    output = int((in_size - kernel_size + 2*(padding)) / stride) + 1\n",
    "    return(output)\n",
    "\n",
    "outputSize(9, 3, 2, 0)"
   ]
  },
  {
   "cell_type": "code",
   "execution_count": 6,
   "metadata": {},
   "outputs": [],
   "source": [
    "class Agent(nn.Module):\n",
    "    def __init__(self, name, state_shape, n_actions, reuse=False):\n",
    "        super(Agent, self).__init__()\n",
    "        \"\"\"A simple actor-critic agent\"\"\"\n",
    "        self.state_shape = state_shape\n",
    "        self.n_actions = n_actions\n",
    "        \n",
    "        self.conv1 = nn.Conv2d(4, 32, kernel_size=3, stride=2)\n",
    "        self.conv2 = nn.Conv2d(32, 32, kernel_size=3, stride=2)\n",
    "        self.conv3 = nn.Conv2d(32, 32, kernel_size=3, stride=2)\n",
    "        self.dence1 = nn.Linear(4*4*32, 128)\n",
    "        self.to_logits = nn.Linear(128, n_actions)\n",
    "        self.to_value = nn.Linear(128, 1)\n",
    "    \n",
    "    def forward(self, x):\n",
    "        x = F.relu(self.conv1(x))\n",
    "        x = F.relu(self.conv2(x))\n",
    "        x = F.relu(self.conv3(x))\n",
    "        x = x.view(x.size()[0], -1)\n",
    "        x = F.relu(self.dence1(x))\n",
    "        logits = self.to_logits(x)\n",
    "        state_value = self.to_value(x)\n",
    "        return logits, state_value\n",
    "    \n",
    "    def sample_actions(self, agent_outputs):\n",
    "        \"\"\"pick actions given numeric agent outputs (np arrays)\"\"\"\n",
    "        logits, state_values = agent_outputs\n",
    "        logits = logits.detach().numpy()\n",
    "        state_values = state_values.detach().numpy()\n",
    "        policy = np.exp(logits) / np.sum(np.exp(logits), axis=-1, keepdims=True)\n",
    "        return np.array([np.random.choice(len(p), p=p) for p in policy])"
   ]
  },
  {
   "cell_type": "code",
   "execution_count": 7,
   "metadata": {},
   "outputs": [],
   "source": [
    "agent = Agent(\"agent\", obs_shape, n_actions)"
   ]
  },
  {
   "cell_type": "code",
   "execution_count": 8,
   "metadata": {},
   "outputs": [
    {
     "name": "stdout",
     "output_type": "stream",
     "text": [
      "action logits:\n",
      " tensor([[-0.0043,  0.0588, -0.0354, -0.0405,  0.0221, -0.0196,  0.0336,  0.0628,\n",
      "         -0.1049,  0.0659,  0.0042,  0.0046,  0.0057, -0.0503]],\n",
      "       grad_fn=<ThAddmmBackward>)\n",
      "state values:\n",
      " tensor([[-0.0150]], grad_fn=<ThAddmmBackward>)\n",
      "torch.Size([1, 4, 42, 42])\n",
      "14\n"
     ]
    },
    {
     "data": {
      "text/plain": [
       "2"
      ]
     },
     "execution_count": 8,
     "metadata": {},
     "output_type": "execute_result"
    }
   ],
   "source": [
    "state = torch.tensor(env.reset()).unsqueeze(0)\n",
    "logits, value = agent(state)\n",
    "print(\"action logits:\\n\", logits)\n",
    "print(\"state values:\\n\", value)\n",
    "\n",
    "print(state.shape)\n",
    "print(n_actions)\n",
    "\n",
    "agent.sample_actions((logits, value))[0]"
   ]
  },
  {
   "cell_type": "markdown",
   "metadata": {},
   "source": [
    "### Let's play!\n",
    "Let's build a function that measures agent's average reward."
   ]
  },
  {
   "cell_type": "code",
   "execution_count": 9,
   "metadata": {},
   "outputs": [],
   "source": [
    "def evaluate(agent, env, n_games=1):\n",
    "    \"\"\"Plays an a game from start till done, returns per-game rewards \"\"\"\n",
    "\n",
    "    game_rewards = []\n",
    "    for _ in range(n_games):\n",
    "        state = env.reset()\n",
    "        \n",
    "        total_reward = 0\n",
    "        while True:\n",
    "            state = torch.tensor(state).unsqueeze(0)\n",
    "            action = agent.sample_actions(agent(state))[0]\n",
    "            state, reward, done, info = env.step(action)\n",
    "            total_reward += reward\n",
    "            if done: break\n",
    "                \n",
    "        game_rewards.append(total_reward)\n",
    "    return game_rewards\n"
   ]
  },
  {
   "cell_type": "code",
   "execution_count": 10,
   "metadata": {},
   "outputs": [
    {
     "name": "stdout",
     "output_type": "stream",
     "text": [
      "[4.0, 14.0, 6.0]\n"
     ]
    }
   ],
   "source": [
    "env_monitor = gym.wrappers.Monitor(env, directory=\"kungfu_videos\", force=True)\n",
    "rw = evaluate(agent, env_monitor, n_games=3,)\n",
    "env_monitor.close()\n",
    "print (rw)"
   ]
  },
  {
   "cell_type": "code",
   "execution_count": 19,
   "metadata": {},
   "outputs": [
    {
     "data": {
      "text/html": [
       "\n",
       "<video width=\"640\" height=\"480\" controls>\n",
       "  <source src=\"./kungfu_videos/openaigym.video.0.7290.video000001.mp4\" type=\"video/mp4\">\n",
       "</video>\n"
      ],
      "text/plain": [
       "<IPython.core.display.HTML object>"
      ]
     },
     "execution_count": 19,
     "metadata": {},
     "output_type": "execute_result"
    }
   ],
   "source": [
    "#show video\n",
    "from IPython.display import HTML\n",
    "import os\n",
    "\n",
    "video_names = list(filter(lambda s:s.endswith(\".mp4\"),os.listdir(\"./kungfu_videos/\")))\n",
    "\n",
    "HTML(\"\"\"\n",
    "<video width=\"640\" height=\"480\" controls>\n",
    "  <source src=\"{}\" type=\"video/mp4\">\n",
    "</video>\n",
    "\"\"\".format(\"./kungfu_videos/\"+video_names[-1])) #this may or may not be _last_ video. Try other indices\n",
    "\n"
   ]
  },
  {
   "cell_type": "markdown",
   "metadata": {},
   "source": [
    "### Training on parallel games\n",
    "![img](https://camo.githubusercontent.com/f894eba2ee745652f1fc95484cfa45bf26decb8e/68747470733a2f2f6769746875622e636f6d2f79616e646578646174617363686f6f6c2f50726163746963616c5f524c2f7261772f6d61737465722f7965745f616e6f746865725f7765656b2f5f7265736f757263652f2f656e765f706f6f6c2e706e67)\n",
    "\n",
    "To make actor-critic training more stable, we shall play several games in parallel. This means ya'll have to initialize several parallel gym envs, send agent's actions there and .reset() each env if it becomes terminated. To minimize learner brain damage, we've taken care of them for ya - just make sure you read it before you use it.\n"
   ]
  },
  {
   "cell_type": "code",
   "execution_count": 20,
   "metadata": {},
   "outputs": [],
   "source": [
    "class EnvBatch:\n",
    "    def __init__(self, n_envs = 10):\n",
    "        \"\"\" Creates n_envs environments and babysits them for ya' \"\"\"\n",
    "        self.envs = [make_env() for _ in range(n_envs)]\n",
    "        \n",
    "    def reset(self):\n",
    "        \"\"\" Reset all games and return [n_envs, *obs_shape] observations \"\"\"\n",
    "        return np.array([env.reset() for env in self.envs])\n",
    "    \n",
    "    def step(self, actions):\n",
    "        \"\"\"\n",
    "        Send a vector[batch_size] of actions into respective environments\n",
    "        :returns: observations[n_envs, *obs_shape], rewards[n_envs], done[n_envs,], info[n_envs]\n",
    "        \"\"\"\n",
    "        results = [env.step(a) for env, a in zip(self.envs, actions)]\n",
    "        new_obs, rewards, done, infos = map(np.array, zip(*results))\n",
    "        done = done.astype(np.float32())\n",
    "        \n",
    "        # reset environments automatically\n",
    "        for i in range(len(self.envs)):\n",
    "            if done[i]:\n",
    "                new_obs[i] = self.envs[i].reset()\n",
    "        \n",
    "        return new_obs, rewards, done, infos"
   ]
  },
  {
   "cell_type": "markdown",
   "metadata": {},
   "source": [
    "__Let's try it out:__"
   ]
  },
  {
   "cell_type": "code",
   "execution_count": 21,
   "metadata": {
    "scrolled": true
   },
   "outputs": [
    {
     "name": "stdout",
     "output_type": "stream",
     "text": [
      "\u001b[33mWARN: gym.spaces.Box autodetected dtype as <class 'numpy.float32'>. Please provide explicit dtype.\u001b[0m\n",
      "\u001b[33mWARN: gym.spaces.Box autodetected dtype as <class 'numpy.float32'>. Please provide explicit dtype.\u001b[0m\n",
      "\u001b[33mWARN: gym.spaces.Box autodetected dtype as <class 'numpy.float32'>. Please provide explicit dtype.\u001b[0m\n",
      "\u001b[33mWARN: gym.spaces.Box autodetected dtype as <class 'numpy.float32'>. Please provide explicit dtype.\u001b[0m\n",
      "\u001b[33mWARN: gym.spaces.Box autodetected dtype as <class 'numpy.float32'>. Please provide explicit dtype.\u001b[0m\n",
      "\u001b[33mWARN: gym.spaces.Box autodetected dtype as <class 'numpy.float32'>. Please provide explicit dtype.\u001b[0m\n",
      "\u001b[33mWARN: gym.spaces.Box autodetected dtype as <class 'numpy.float32'>. Please provide explicit dtype.\u001b[0m\n",
      "\u001b[33mWARN: gym.spaces.Box autodetected dtype as <class 'numpy.float32'>. Please provide explicit dtype.\u001b[0m\n",
      "\u001b[33mWARN: gym.spaces.Box autodetected dtype as <class 'numpy.float32'>. Please provide explicit dtype.\u001b[0m\n",
      "\u001b[33mWARN: gym.spaces.Box autodetected dtype as <class 'numpy.float32'>. Please provide explicit dtype.\u001b[0m\n",
      "State shape: torch.Size([10, 4, 42, 42])\n",
      "Actions: [ 9 13  7]\n",
      "Rewards: [0. 0. 0.]\n",
      "Done: [0. 0. 0.]\n"
     ]
    }
   ],
   "source": [
    "env_batch = EnvBatch(10)\n",
    "\n",
    "batch_states = torch.tensor(env_batch.reset()).float()\n",
    "\n",
    "batch_actions = agent.sample_actions(agent(batch_states))\n",
    "\n",
    "batch_next_states, batch_rewards, batch_done, _ = env_batch.step(batch_actions)\n",
    "\n",
    "print(\"State shape:\", batch_states.shape)\n",
    "print(\"Actions:\", batch_actions[:3])\n",
    "print(\"Rewards:\", batch_rewards[:3])\n",
    "print(\"Done:\", batch_done[:3])\n"
   ]
  },
  {
   "cell_type": "markdown",
   "metadata": {},
   "source": [
    "# Actor-critic\n",
    "\n",
    "Here we define a loss functions and learning algorithms as usual."
   ]
  },
  {
   "cell_type": "code",
   "execution_count": 56,
   "metadata": {},
   "outputs": [],
   "source": [
    "def gen_actor_critic_loss(agent, states, next_states, rewards, dones, actions, gamma=0.99):\n",
    "    \"\"\"\n",
    "    states, next_states: bx4x42x42 list\n",
    "    rewards: b list\n",
    "    dones: b list\n",
    "    actions: b list\n",
    "    \"\"\"\n",
    "    \n",
    "    states = torch.tensor(states)\n",
    "    next_states = torch.tensor(next_states)\n",
    "    rewards = torch.tensor(rewards).float().unsqueeze(1)\n",
    "    dones = torch.tensor(dones).float().unsqueeze(1)\n",
    "    actions = torch.tensor(actions).unsqueeze(1)\n",
    "    \n",
    "    logits, state_values = agent(states)\n",
    "    next_logits, next_state_values = agent(next_states)\n",
    "    next_state_values = next_state_values * (1 - dones)\n",
    "    \n",
    "    probs = F.softmax(logits, dim=-1)\n",
    "    logprobs = F.log_softmax(logits, dim=-1)\n",
    "    \n",
    "    probs_actions = probs.gather(1, actions)\n",
    "    logp_actions = logprobs.gather(1, actions)\n",
    "    \n",
    "    advantage = rewards + gamma * next_state_values - state_values\n",
    "    entropy = - torch.sum(probs_actions * logp_actions)\n",
    "    \n",
    "    actor_loss = - (advantage * logp_actions.detach()).mean() - 0.001 * entropy\n",
    "    \n",
    "    target_state_values = rewards + gamma * next_state_values\n",
    "    critic_loss = ((state_values - target_state_values.detach())**2).mean()\n",
    "    \n",
    "    return actor_loss, critic_loss, advantage, entropy"
   ]
  },
  {
   "cell_type": "code",
   "execution_count": 57,
   "metadata": {},
   "outputs": [],
   "source": [
    "agent = Agent(\"agent\", obs_shape, n_actions)\n",
    "optimizer = optim.Adam(agent.parameters(), \n",
    "                   lr=0.01)"
   ]
  },
  {
   "cell_type": "code",
   "execution_count": 58,
   "metadata": {},
   "outputs": [
    {
     "name": "stdout",
     "output_type": "stream",
     "text": [
      "You just might be fine!\n"
     ]
    }
   ],
   "source": [
    "# Sanity checks to catch some errors. Specific to KungFuMaster in assignment's default setup.\n",
    "l_act, l_crit, adv, ent = gen_actor_critic_loss(agent, batch_states, \n",
    "                                               batch_next_states, batch_rewards,\n",
    "                                               batch_done, batch_actions)\n",
    "\n",
    "assert abs(l_act) < 100 and abs(l_crit) < 100, \"losses seem abnormally large\"\n",
    "assert 0 <= ent.mean() <= np.log(n_actions), \"impossible entropy value, double-check the formula pls\"\n",
    "if ent.mean() < np.log(n_actions) / 2: print(\"Entropy is too low for untrained agent\")\n",
    "print(\"You just might be fine!\")"
   ]
  },
  {
   "cell_type": "markdown",
   "metadata": {},
   "source": [
    "# Train \n",
    "\n",
    "Just the usual - play a bit, compute loss, follow the graidents, repeat a few million times.\n",
    "![img](http://images6.fanpop.com/image/photos/38900000/Daniel-san-training-the-karate-kid-38947361-499-288.gif)"
   ]
  },
  {
   "cell_type": "code",
   "execution_count": 59,
   "metadata": {},
   "outputs": [
    {
     "name": "stdout",
     "output_type": "stream",
     "text": [
      "\u001b[33mWARN: gym.spaces.Box autodetected dtype as <class 'numpy.float32'>. Please provide explicit dtype.\u001b[0m\n",
      "\u001b[33mWARN: gym.spaces.Box autodetected dtype as <class 'numpy.float32'>. Please provide explicit dtype.\u001b[0m\n"
     ]
    },
    {
     "name": "stderr",
     "output_type": "stream",
     "text": [
      "\r",
      "  0%|          | 87/100000 [00:30<1:13:01, 22.81it/s]"
     ]
    },
    {
     "name": "stdout",
     "output_type": "stream",
     "text": [
      "\u001b[33mWARN: gym.spaces.Box autodetected dtype as <class 'numpy.float32'>. Please provide explicit dtype.\u001b[0m\n",
      "\u001b[33mWARN: gym.spaces.Box autodetected dtype as <class 'numpy.float32'>. Please provide explicit dtype.\u001b[0m\n",
      "\u001b[33mWARN: gym.spaces.Box autodetected dtype as <class 'numpy.float32'>. Please provide explicit dtype.\u001b[0m\n",
      "\u001b[33mWARN: gym.spaces.Box autodetected dtype as <class 'numpy.float32'>. Please provide explicit dtype.\u001b[0m\n",
      "\u001b[33mWARN: gym.spaces.Box autodetected dtype as <class 'numpy.float32'>. Please provide explicit dtype.\u001b[0m\n",
      "\u001b[33mWARN: gym.spaces.Box autodetected dtype as <class 'numpy.float32'>. Please provide explicit dtype.\u001b[0m\n",
      "\u001b[33mWARN: gym.spaces.Box autodetected dtype as <class 'numpy.float32'>. Please provide explicit dtype.\u001b[0m\n",
      "\u001b[33mWARN: gym.spaces.Box autodetected dtype as <class 'numpy.float32'>. Please provide explicit dtype.\u001b[0m\n"
     ]
    }
   ],
   "source": [
    "from IPython.display import clear_output\n",
    "from tqdm import trange\n",
    "from pandas import DataFrame\n",
    "ewma = lambda x, span=100: DataFrame({'x':np.asarray(x)}).x.ewm(span=span).mean().values\n",
    "\n",
    "env_batch = EnvBatch(10)\n",
    "batch_states = env_batch.reset()\n",
    "\n",
    "rewards_history = []\n",
    "entropy_history = []"
   ]
  },
  {
   "cell_type": "code",
   "execution_count": 60,
   "metadata": {},
   "outputs": [],
   "source": [
    "agent = Agent(\"agent\", obs_shape, n_actions)\n",
    "optimizer = optim.Adam(agent.parameters(), \n",
    "                   lr=0.01)"
   ]
  },
  {
   "cell_type": "code",
   "execution_count": null,
   "metadata": {},
   "outputs": [
    {
     "data": {
      "image/png": "[encoded data removed]",
      "text/plain": [
       "<Figure size 576x288 with 2 Axes>"
      ]
     },
     "metadata": {
      "needs_background": "light"
     },
     "output_type": "display_data"
    },
    {
     "name": "stderr",
     "output_type": "stream",
     "text": [
      "\n",
      " 38%|███▊      | 38001/100000 [51:45<3:12:55,  5.36it/s]\u001b[A"
     ]
    },
    {
     "name": "stdout",
     "output_type": "stream",
     "text": [
      "l_act\n",
      "tensor(-0.0389, grad_fn=<ThSubBackward>)\n",
      "l_crit\n",
      "tensor(0.0006, grad_fn=<MeanBackward1>)\n",
      "l_act\n",
      "tensor(-0.0381, grad_fn=<ThSubBackward>)\n",
      "l_crit\n",
      "tensor(0.0006, grad_fn=<MeanBackward1>)\n"
     ]
    },
    {
     "name": "stderr",
     "output_type": "stream",
     "text": [
      "\n",
      " 38%|███▊      | 38003/100000 [51:46<4:46:49,  3.60it/s]\u001b[A\n",
      " 38%|███▊      | 38006/100000 [51:46<3:37:57,  4.74it/s]\u001b[A"
     ]
    },
    {
     "name": "stdout",
     "output_type": "stream",
     "text": [
      "l_act\n",
      "tensor(-0.0382, grad_fn=<ThSubBackward>)\n",
      "l_crit\n",
      "tensor(0.0006, grad_fn=<MeanBackward1>)\n",
      "l_act\n",
      "tensor(-0.0382, grad_fn=<ThSubBackward>)\n",
      "l_crit\n",
      "tensor(0.0006, grad_fn=<MeanBackward1>)\n",
      "l_act\n",
      "tensor(-0.0383, grad_fn=<ThSubBackward>)\n",
      "l_crit\n",
      "tensor(0.0006, grad_fn=<MeanBackward1>)\n"
     ]
    },
    {
     "name": "stderr",
     "output_type": "stream",
     "text": [
      "\n",
      " 38%|███▊      | 38008/100000 [51:47<3:07:27,  5.51it/s]\u001b[A\n",
      " 38%|███▊      | 38010/100000 [51:47<2:27:01,  7.03it/s]\u001b[A"
     ]
    },
    {
     "name": "stdout",
     "output_type": "stream",
     "text": [
      "l_act\n",
      "tensor(-0.0388, grad_fn=<ThSubBackward>)\n",
      "l_crit\n",
      "tensor(0.0006, grad_fn=<MeanBackward1>)\n",
      "l_act\n",
      "tensor(-0.0380, grad_fn=<ThSubBackward>)\n",
      "l_crit\n",
      "tensor(0.0006, grad_fn=<MeanBackward1>)\n",
      "l_act\n",
      "tensor(-0.0393, grad_fn=<ThSubBackward>)\n",
      "l_crit\n",
      "tensor(0.0006, grad_fn=<MeanBackward1>)\n",
      "l_act\n",
      "tensor(-0.0386, grad_fn=<ThSubBackward>)\n",
      "l_crit\n",
      "tensor(0.0006, grad_fn=<MeanBackward1>)\n"
     ]
    },
    {
     "name": "stderr",
     "output_type": "stream",
     "text": [
      "\n",
      " 38%|███▊      | 38013/100000 [51:47<1:57:04,  8.82it/s]\u001b[A"
     ]
    },
    {
     "name": "stdout",
     "output_type": "stream",
     "text": [
      "l_act\n",
      "tensor(-0.0382, grad_fn=<ThSubBackward>)\n",
      "l_crit\n",
      "tensor(0.0006, grad_fn=<MeanBackward1>)\n",
      "l_act\n",
      "tensor(-0.0385, grad_fn=<ThSubBackward>)\n",
      "l_crit\n",
      "tensor(0.0006, grad_fn=<MeanBackward1>)\n",
      "l_act\n",
      "tensor(-0.0385, grad_fn=<ThSubBackward>)\n",
      "l_crit\n",
      "tensor(0.0006, grad_fn=<MeanBackward1>)\n",
      "l_act\n",
      "tensor(-0.0391, grad_fn=<ThSubBackward>)\n",
      "l_crit\n",
      "tensor(0.0006, grad_fn=<MeanBackward1>)\n",
      "l_act\n",
      "tensor(-0.0390, grad_fn=<ThSubBackward>)\n",
      "l_crit\n",
      "tensor(0.0006, grad_fn=<MeanBackward1>)\n"
     ]
    },
    {
     "name": "stderr",
     "output_type": "stream",
     "text": [
      "\n",
      " 38%|███▊      | 38016/100000 [51:47<1:35:53, 10.77it/s]\u001b[A\n",
      " 38%|███▊      | 38019/100000 [51:47<1:19:00, 13.07it/s]\u001b[A"
     ]
    },
    {
     "name": "stdout",
     "output_type": "stream",
     "text": [
      "l_act\n",
      "tensor(-0.0380, grad_fn=<ThSubBackward>)\n",
      "l_crit\n",
      "tensor(0.0006, grad_fn=<MeanBackward1>)\n",
      "l_act\n",
      "tensor(-0.0380, grad_fn=<ThSubBackward>)\n",
      "l_crit\n",
      "tensor(0.0006, grad_fn=<MeanBackward1>)\n",
      "l_act\n",
      "tensor(-0.0375, grad_fn=<ThSubBackward>)\n",
      "l_crit\n",
      "tensor(0.0006, grad_fn=<MeanBackward1>)\n",
      "l_act\n",
      "tensor(-0.0376, grad_fn=<ThSubBackward>)\n",
      "l_crit\n",
      "tensor(0.0006, grad_fn=<MeanBackward1>)\n",
      "l_act\n",
      "tensor(-0.0381, grad_fn=<ThSubBackward>)\n",
      "l_crit\n",
      "tensor(0.0006, grad_fn=<MeanBackward1>)\n"
     ]
    },
    {
     "name": "stderr",
     "output_type": "stream",
     "text": [
      "\n",
      " 38%|███▊      | 38022/100000 [51:47<1:19:15, 13.03it/s]\u001b[A"
     ]
    },
    {
     "name": "stdout",
     "output_type": "stream",
     "text": [
      "l_act\n",
      "tensor(-0.0382, grad_fn=<ThSubBackward>)\n",
      "l_crit\n",
      "tensor(0.0006, grad_fn=<MeanBackward1>)\n",
      "l_act\n",
      "tensor(-0.0377, grad_fn=<ThSubBackward>)\n",
      "l_crit\n",
      "tensor(0.0006, grad_fn=<MeanBackward1>)\n",
      "l_act\n",
      "tensor(0.2328, grad_fn=<ThSubBackward>)\n",
      "l_crit\n",
      "tensor(0.3907, grad_fn=<MeanBackward1>)\n",
      "l_act\n",
      "tensor(-0.0378, grad_fn=<ThSubBackward>)\n",
      "l_crit\n",
      "tensor(0.0006, grad_fn=<MeanBackward1>)\n",
      "l_act\n",
      "tensor(-0.0380, grad_fn=<ThSubBackward>)\n",
      "l_crit\n",
      "tensor(0.0006, grad_fn=<MeanBackward1>)\n"
     ]
    },
    {
     "name": "stderr",
     "output_type": "stream",
     "text": [
      "\n",
      " 38%|███▊      | 38025/100000 [51:48<1:09:54, 14.78it/s]\u001b[A"
     ]
    },
    {
     "name": "stdout",
     "output_type": "stream",
     "text": [
      "l_act\n",
      "tensor(0.2320, grad_fn=<ThSubBackward>)\n",
      "l_crit\n",
      "tensor(0.3907, grad_fn=<MeanBackward1>)\n",
      "l_act\n",
      "tensor(-0.0379, grad_fn=<ThSubBackward>)\n",
      "l_crit\n",
      "tensor(0.0006, grad_fn=<MeanBackward1>)\n",
      "l_act\n",
      "tensor(-0.0381, grad_fn=<ThSubBackward>)\n",
      "l_crit\n",
      "tensor(0.0006, grad_fn=<MeanBackward1>)\n"
     ]
    },
    {
     "name": "stderr",
     "output_type": "stream",
     "text": [
      "\n",
      " 38%|███▊      | 38028/100000 [51:48<1:12:59, 14.15it/s]\u001b[A\n",
      " 38%|███▊      | 38030/100000 [51:48<1:26:12, 11.98it/s]\u001b[A"
     ]
    },
    {
     "name": "stdout",
     "output_type": "stream",
     "text": [
      "l_act\n",
      "tensor(-0.0381, grad_fn=<ThSubBackward>)\n",
      "l_crit\n",
      "tensor(0.0006, grad_fn=<MeanBackward1>)\n",
      "l_act\n",
      "tensor(0.0958, grad_fn=<ThSubBackward>)\n",
      "l_crit\n",
      "tensor(0.0956, grad_fn=<MeanBackward1>)\n",
      "l_act\n",
      "tensor(-0.0382, grad_fn=<ThSubBackward>)\n",
      "l_crit\n",
      "tensor(0.0006, grad_fn=<MeanBackward1>)\n",
      "l_act\n",
      "tensor(-0.0380, grad_fn=<ThSubBackward>)\n",
      "l_crit\n",
      "tensor(0.0006, grad_fn=<MeanBackward1>)\n"
     ]
    },
    {
     "name": "stderr",
     "output_type": "stream",
     "text": [
      "\n",
      " 38%|███▊      | 38033/100000 [51:48<1:13:57, 13.96it/s]\u001b[A\n",
      " 38%|███▊      | 38035/100000 [51:48<1:09:28, 14.87it/s]\u001b[A"
     ]
    },
    {
     "name": "stdout",
     "output_type": "stream",
     "text": [
      "l_act\n",
      "tensor(-0.0382, grad_fn=<ThSubBackward>)\n",
      "l_crit\n",
      "tensor(0.0006, grad_fn=<MeanBackward1>)\n",
      "l_act\n",
      "tensor(-0.0378, grad_fn=<ThSubBackward>)\n",
      "l_crit\n",
      "tensor(0.0006, grad_fn=<MeanBackward1>)\n",
      "l_act\n",
      "tensor(-0.0377, grad_fn=<ThSubBackward>)\n",
      "l_crit\n",
      "tensor(0.0006, grad_fn=<MeanBackward1>)\n",
      "l_act\n",
      "tensor(-0.0377, grad_fn=<ThSubBackward>)\n",
      "l_crit\n",
      "tensor(0.0006, grad_fn=<MeanBackward1>)\n",
      "l_act\n",
      "tensor(-0.0381, grad_fn=<ThSubBackward>)\n",
      "l_crit\n",
      "tensor(0.0006, grad_fn=<MeanBackward1>)\n"
     ]
    },
    {
     "name": "stderr",
     "output_type": "stream",
     "text": [
      "\n",
      " 38%|███▊      | 38038/100000 [51:48<1:00:59, 16.93it/s]\u001b[A\n",
      " 38%|███▊      | 38040/100000 [51:48<1:00:36, 17.04it/s]\u001b[A"
     ]
    },
    {
     "name": "stdout",
     "output_type": "stream",
     "text": [
      "l_act\n",
      "tensor(-0.0376, grad_fn=<ThSubBackward>)\n",
      "l_crit\n",
      "tensor(0.0006, grad_fn=<MeanBackward1>)\n",
      "l_act\n",
      "tensor(-0.0385, grad_fn=<ThSubBackward>)\n",
      "l_crit\n",
      "tensor(0.0006, grad_fn=<MeanBackward1>)\n",
      "l_act\n",
      "tensor(0.2247, grad_fn=<ThSubBackward>)\n",
      "l_crit\n",
      "tensor(0.3906, grad_fn=<MeanBackward1>)\n",
      "l_act\n",
      "tensor(-0.0382, grad_fn=<ThSubBackward>)\n",
      "l_crit\n",
      "tensor(0.0006, grad_fn=<MeanBackward1>)\n"
     ]
    },
    {
     "name": "stderr",
     "output_type": "stream",
     "text": [
      "\n",
      " 38%|███▊      | 38043/100000 [51:49<55:59, 18.44it/s]  \u001b[A"
     ]
    },
    {
     "name": "stdout",
     "output_type": "stream",
     "text": [
      "l_act\n",
      "tensor(-0.0386, grad_fn=<ThSubBackward>)\n",
      "l_crit\n",
      "tensor(0.0006, grad_fn=<MeanBackward1>)\n",
      "l_act\n",
      "tensor(-0.0386, grad_fn=<ThSubBackward>)\n",
      "l_crit\n",
      "tensor(0.0006, grad_fn=<MeanBackward1>)\n",
      "l_act\n",
      "tensor(-0.0381, grad_fn=<ThSubBackward>)\n",
      "l_crit\n",
      "tensor(0.0006, grad_fn=<MeanBackward1>)\n",
      "l_act\n",
      "tensor(-0.0381, grad_fn=<ThSubBackward>)\n",
      "l_crit\n",
      "tensor(0.0006, grad_fn=<MeanBackward1>)\n",
      "l_act\n",
      "tensor(-0.0380, grad_fn=<ThSubBackward>)\n",
      "l_crit\n",
      "tensor(0.0006, grad_fn=<MeanBackward1>)\n"
     ]
    },
    {
     "name": "stderr",
     "output_type": "stream",
     "text": [
      "\n",
      " 38%|███▊      | 38046/100000 [51:49<56:32, 18.26it/s]\u001b[A\n",
      " 38%|███▊      | 38049/100000 [51:49<53:09, 19.42it/s]\u001b[A"
     ]
    },
    {
     "name": "stdout",
     "output_type": "stream",
     "text": [
      "l_act\n",
      "tensor(0.2450, grad_fn=<ThSubBackward>)\n",
      "l_crit\n",
      "tensor(0.3906, grad_fn=<MeanBackward1>)\n",
      "l_act\n",
      "tensor(-0.0383, grad_fn=<ThSubBackward>)\n",
      "l_crit\n",
      "tensor(0.0006, grad_fn=<MeanBackward1>)\n",
      "l_act\n",
      "tensor(0.2243, grad_fn=<ThSubBackward>)\n",
      "l_crit\n",
      "tensor(0.3906, grad_fn=<MeanBackward1>)\n",
      "l_act\n",
      "tensor(-0.0379, grad_fn=<ThSubBackward>)\n",
      "l_crit\n",
      "tensor(0.0006, grad_fn=<MeanBackward1>)\n",
      "l_act\n",
      "tensor(0.2233, grad_fn=<ThSubBackward>)\n",
      "l_crit\n",
      "tensor(0.3906, grad_fn=<MeanBackward1>)\n"
     ]
    },
    {
     "name": "stderr",
     "output_type": "stream",
     "text": [
      "\n",
      " 38%|███▊      | 38052/100000 [51:49<49:35, 20.82it/s]\u001b[A\n",
      " 38%|███▊      | 38055/100000 [51:49<46:32, 22.18it/s]\u001b[A"
     ]
    },
    {
     "name": "stdout",
     "output_type": "stream",
     "text": [
      "l_act\n",
      "tensor(-0.0389, grad_fn=<ThSubBackward>)\n",
      "l_crit\n",
      "tensor(0.0006, grad_fn=<MeanBackward1>)\n",
      "l_act\n",
      "tensor(-0.0386, grad_fn=<ThSubBackward>)\n",
      "l_crit\n",
      "tensor(0.0006, grad_fn=<MeanBackward1>)\n",
      "l_act\n",
      "tensor(0.2438, grad_fn=<ThSubBackward>)\n",
      "l_crit\n",
      "tensor(0.3905, grad_fn=<MeanBackward1>)\n",
      "l_act\n",
      "tensor(0.5072, grad_fn=<ThSubBackward>)\n",
      "l_crit\n",
      "tensor(0.7803, grad_fn=<MeanBackward1>)\n",
      "l_act\n",
      "tensor(-0.0387, grad_fn=<ThSubBackward>)\n",
      "l_crit\n",
      "tensor(0.0007, grad_fn=<MeanBackward1>)\n"
     ]
    },
    {
     "name": "stderr",
     "output_type": "stream",
     "text": [
      "\n",
      " 38%|███▊      | 38058/100000 [51:49<48:53, 21.12it/s]\u001b[A"
     ]
    },
    {
     "name": "stdout",
     "output_type": "stream",
     "text": [
      "l_act\n",
      "tensor(-0.0385, grad_fn=<ThSubBackward>)\n",
      "l_crit\n",
      "tensor(0.0007, grad_fn=<MeanBackward1>)\n",
      "l_act\n",
      "tensor(-0.0394, grad_fn=<ThSubBackward>)\n",
      "l_crit\n",
      "tensor(0.0007, grad_fn=<MeanBackward1>)\n",
      "l_act\n",
      "tensor(0.2248, grad_fn=<ThSubBackward>)\n",
      "l_crit\n",
      "tensor(0.3903, grad_fn=<MeanBackward1>)\n",
      "l_act\n",
      "tensor(-0.0394, grad_fn=<ThSubBackward>)\n",
      "l_crit\n",
      "tensor(0.0007, grad_fn=<MeanBackward1>)\n",
      "l_act\n",
      "tensor(-0.0396, grad_fn=<ThSubBackward>)\n",
      "l_crit\n",
      "tensor(0.0007, grad_fn=<MeanBackward1>)\n"
     ]
    },
    {
     "name": "stderr",
     "output_type": "stream",
     "text": [
      "\n",
      " 38%|███▊      | 38061/100000 [51:49<49:43, 20.76it/s]\u001b[A\n",
      " 38%|███▊      | 38064/100000 [51:50<54:34, 18.91it/s]\u001b[A"
     ]
    },
    {
     "name": "stdout",
     "output_type": "stream",
     "text": [
      "l_act\n",
      "tensor(-0.0398, grad_fn=<ThSubBackward>)\n",
      "l_crit\n",
      "tensor(0.0007, grad_fn=<MeanBackward1>)\n",
      "l_act\n",
      "tensor(0.5227, grad_fn=<ThSubBackward>)\n",
      "l_crit\n",
      "tensor(0.7798, grad_fn=<MeanBackward1>)\n",
      "l_act\n",
      "tensor(-0.0398, grad_fn=<ThSubBackward>)\n",
      "l_crit\n",
      "tensor(0.0007, grad_fn=<MeanBackward1>)\n",
      "l_act\n",
      "tensor(-0.0399, grad_fn=<ThSubBackward>)\n",
      "l_crit\n",
      "tensor(0.0007, grad_fn=<MeanBackward1>)\n"
     ]
    },
    {
     "name": "stderr",
     "output_type": "stream",
     "text": [
      "\n",
      " 38%|███▊      | 38066/100000 [51:50<1:09:11, 14.92it/s]\u001b[A\n",
      " 38%|███▊      | 38068/100000 [51:50<1:06:06, 15.62it/s]\u001b[A"
     ]
    },
    {
     "name": "stdout",
     "output_type": "stream",
     "text": [
      "l_act\n",
      "tensor(-0.0402, grad_fn=<ThSubBackward>)\n",
      "l_crit\n",
      "tensor(0.0007, grad_fn=<MeanBackward1>)\n",
      "l_act\n",
      "tensor(-0.0402, grad_fn=<ThSubBackward>)\n",
      "l_crit\n",
      "tensor(0.0007, grad_fn=<MeanBackward1>)\n",
      "l_act\n",
      "tensor(-0.0402, grad_fn=<ThSubBackward>)\n",
      "l_crit\n",
      "tensor(0.0007, grad_fn=<MeanBackward1>)\n"
     ]
    },
    {
     "name": "stderr",
     "output_type": "stream",
     "text": [
      "\n",
      " 38%|███▊      | 38070/100000 [51:50<1:02:41, 16.46it/s]\u001b[A\n",
      " 38%|███▊      | 38073/100000 [51:50<55:46, 18.50it/s]  \u001b[A"
     ]
    },
    {
     "name": "stdout",
     "output_type": "stream",
     "text": [
      "l_act\n",
      "tensor(-0.0408, grad_fn=<ThSubBackward>)\n",
      "l_crit\n",
      "tensor(0.0007, grad_fn=<MeanBackward1>)\n",
      "l_act\n",
      "tensor(-0.0408, grad_fn=<ThSubBackward>)\n",
      "l_crit\n",
      "tensor(0.0007, grad_fn=<MeanBackward1>)\n",
      "l_act\n",
      "tensor(-0.0406, grad_fn=<ThSubBackward>)\n",
      "l_crit\n",
      "tensor(0.0007, grad_fn=<MeanBackward1>)\n",
      "l_act\n",
      "tensor(-0.0405, grad_fn=<ThSubBackward>)\n",
      "l_crit\n",
      "tensor(0.0007, grad_fn=<MeanBackward1>)\n",
      "l_act\n",
      "tensor(-0.0407, grad_fn=<ThSubBackward>)\n",
      "l_crit\n",
      "tensor(0.0007, grad_fn=<MeanBackward1>)\n",
      "l_act\n",
      "tensor(-0.0405, grad_fn=<ThSubBackward>)\n",
      "l_crit\n",
      "tensor(0.0007, grad_fn=<MeanBackward1>)\n",
      "l_act\n",
      "tensor(-0.0406, grad_fn=<ThSubBackward>)\n",
      "l_crit\n",
      "tensor(0.0007, grad_fn=<MeanBackward1>)\n"
     ]
    },
    {
     "name": "stderr",
     "output_type": "stream",
     "text": [
      "\n",
      " 38%|███▊      | 38076/100000 [51:51<1:23:18, 12.39it/s]\u001b[A"
     ]
    },
    {
     "name": "stdout",
     "output_type": "stream",
     "text": [
      "l_act\n",
      "tensor(-0.0405, grad_fn=<ThSubBackward>)\n",
      "l_crit\n",
      "tensor(0.0007, grad_fn=<MeanBackward1>)\n"
     ]
    },
    {
     "name": "stderr",
     "output_type": "stream",
     "text": [
      "\n",
      " 38%|███▊      | 38078/100000 [51:51<2:10:16,  7.92it/s]\u001b[A"
     ]
    },
    {
     "name": "stdout",
     "output_type": "stream",
     "text": [
      "l_act\n",
      "tensor(-0.0408, grad_fn=<ThSubBackward>)\n",
      "l_crit\n",
      "tensor(0.0007, grad_fn=<MeanBackward1>)\n",
      "l_act\n",
      "tensor(-0.0410, grad_fn=<ThSubBackward>)\n",
      "l_crit\n",
      "tensor(0.0007, grad_fn=<MeanBackward1>)\n"
     ]
    },
    {
     "name": "stderr",
     "output_type": "stream",
     "text": [
      "\n",
      " 38%|███▊      | 38080/100000 [51:51<2:05:25,  8.23it/s]\u001b[A"
     ]
    },
    {
     "name": "stdout",
     "output_type": "stream",
     "text": [
      "l_act\n",
      "tensor(-0.0407, grad_fn=<ThSubBackward>)\n",
      "l_crit\n",
      "tensor(0.0007, grad_fn=<MeanBackward1>)\n",
      "l_act\n",
      "tensor(-0.0407, grad_fn=<ThSubBackward>)\n",
      "l_crit\n",
      "tensor(0.0007, grad_fn=<MeanBackward1>)\n"
     ]
    },
    {
     "name": "stderr",
     "output_type": "stream",
     "text": [
      "\n",
      " 38%|███▊      | 38082/100000 [51:51<1:46:19,  9.71it/s]\u001b[A"
     ]
    },
    {
     "name": "stdout",
     "output_type": "stream",
     "text": [
      "l_act\n",
      "tensor(-0.0407, grad_fn=<ThSubBackward>)\n",
      "l_crit\n",
      "tensor(0.0007, grad_fn=<MeanBackward1>)\n",
      "l_act\n",
      "tensor(-0.0408, grad_fn=<ThSubBackward>)\n",
      "l_crit\n",
      "tensor(0.0007, grad_fn=<MeanBackward1>)\n",
      "l_act\n",
      "tensor(-0.0409, grad_fn=<ThSubBackward>)\n",
      "l_crit\n",
      "tensor(0.0007, grad_fn=<MeanBackward1>)\n"
     ]
    },
    {
     "name": "stderr",
     "output_type": "stream",
     "text": [
      "\n",
      " 38%|███▊      | 38084/100000 [51:52<1:51:04,  9.29it/s]\u001b[A\n",
      " 38%|███▊      | 38087/100000 [51:52<1:31:22, 11.29it/s]\u001b[A"
     ]
    },
    {
     "name": "stdout",
     "output_type": "stream",
     "text": [
      "l_act\n",
      "tensor(-0.0406, grad_fn=<ThSubBackward>)\n",
      "l_crit\n",
      "tensor(0.0007, grad_fn=<MeanBackward1>)\n",
      "l_act\n",
      "tensor(-0.0404, grad_fn=<ThSubBackward>)\n",
      "l_crit\n",
      "tensor(0.0007, grad_fn=<MeanBackward1>)\n",
      "l_act\n",
      "tensor(-0.0407, grad_fn=<ThSubBackward>)\n",
      "l_crit\n",
      "tensor(0.0007, grad_fn=<MeanBackward1>)\n",
      "l_act\n",
      "tensor(-0.0406, grad_fn=<ThSubBackward>)\n",
      "l_crit\n",
      "tensor(0.0007, grad_fn=<MeanBackward1>)\n",
      "l_act\n",
      "tensor(-0.0405, grad_fn=<ThSubBackward>)\n",
      "l_crit\n",
      "tensor(0.0007, grad_fn=<MeanBackward1>)\n"
     ]
    },
    {
     "name": "stderr",
     "output_type": "stream",
     "text": [
      "\n",
      " 38%|███▊      | 38090/100000 [51:52<1:17:07, 13.38it/s]\u001b[A\n",
      " 38%|███▊      | 38092/100000 [51:52<1:13:18, 14.08it/s]\u001b[A"
     ]
    },
    {
     "name": "stdout",
     "output_type": "stream",
     "text": [
      "l_act\n",
      "tensor(-0.0405, grad_fn=<ThSubBackward>)\n",
      "l_crit\n",
      "tensor(0.0007, grad_fn=<MeanBackward1>)\n",
      "l_act\n",
      "tensor(-0.0404, grad_fn=<ThSubBackward>)\n",
      "l_crit\n",
      "tensor(0.0007, grad_fn=<MeanBackward1>)\n",
      "l_act\n",
      "tensor(-0.0406, grad_fn=<ThSubBackward>)\n",
      "l_crit\n",
      "tensor(0.0007, grad_fn=<MeanBackward1>)\n",
      "l_act\n",
      "tensor(-0.0403, grad_fn=<ThSubBackward>)\n",
      "l_crit\n",
      "tensor(0.0007, grad_fn=<MeanBackward1>)\n"
     ]
    },
    {
     "name": "stderr",
     "output_type": "stream",
     "text": [
      "\n",
      " 38%|███▊      | 38094/100000 [51:52<1:10:04, 14.72it/s]\u001b[A"
     ]
    },
    {
     "name": "stdout",
     "output_type": "stream",
     "text": [
      "l_act\n",
      "tensor(0.2325, grad_fn=<ThSubBackward>)\n",
      "l_crit\n",
      "tensor(0.3901, grad_fn=<MeanBackward1>)\n",
      "l_act\n",
      "tensor(0.2299, grad_fn=<ThSubBackward>)\n",
      "l_crit\n",
      "tensor(0.3901, grad_fn=<MeanBackward1>)\n",
      "l_act\n",
      "tensor(-0.0402, grad_fn=<ThSubBackward>)\n",
      "l_crit\n",
      "tensor(0.0007, grad_fn=<MeanBackward1>)\n"
     ]
    },
    {
     "name": "stderr",
     "output_type": "stream",
     "text": [
      "\n",
      " 38%|███▊      | 38096/100000 [51:52<1:19:44, 12.94it/s]\u001b[A"
     ]
    },
    {
     "name": "stdout",
     "output_type": "stream",
     "text": [
      "l_act\n",
      "tensor(-0.0404, grad_fn=<ThSubBackward>)\n",
      "l_crit\n",
      "tensor(0.0007, grad_fn=<MeanBackward1>)\n",
      "l_act\n",
      "tensor(-0.0399, grad_fn=<ThSubBackward>)\n",
      "l_crit\n",
      "tensor(0.0007, grad_fn=<MeanBackward1>)\n"
     ]
    },
    {
     "name": "stderr",
     "output_type": "stream",
     "text": [
      "\n",
      " 38%|███▊      | 38098/100000 [51:53<1:41:14, 10.19it/s]\u001b[A"
     ]
    },
    {
     "name": "stdout",
     "output_type": "stream",
     "text": [
      "l_act\n",
      "tensor(0.2500, grad_fn=<ThSubBackward>)\n",
      "l_crit\n",
      "tensor(0.3900, grad_fn=<MeanBackward1>)\n",
      "l_act\n",
      "tensor(-0.0407, grad_fn=<ThSubBackward>)\n",
      "l_crit\n",
      "tensor(0.0007, grad_fn=<MeanBackward1>)\n"
     ]
    },
    {
     "name": "stderr",
     "output_type": "stream",
     "text": [
      "\n",
      " 38%|███▊      | 38100/100000 [51:53<1:54:59,  8.97it/s]\u001b[A"
     ]
    },
    {
     "name": "stdout",
     "output_type": "stream",
     "text": [
      "l_act\n",
      "tensor(-0.0413, grad_fn=<ThSubBackward>)\n",
      "l_crit\n",
      "tensor(0.0007, grad_fn=<MeanBackward1>)\n",
      "l_act\n",
      "tensor(0.2368, grad_fn=<ThSubBackward>)\n",
      "l_crit\n",
      "tensor(0.3900, grad_fn=<MeanBackward1>)\n",
      "l_act\n",
      "tensor(-0.0408, grad_fn=<ThSubBackward>)\n",
      "l_crit\n",
      "tensor(0.0007, grad_fn=<MeanBackward1>)\n"
     ]
    },
    {
     "name": "stderr",
     "output_type": "stream",
     "text": [
      "\n",
      " 38%|███▊      | 38102/100000 [51:53<1:49:21,  9.43it/s]\u001b[A"
     ]
    },
    {
     "name": "stdout",
     "output_type": "stream",
     "text": [
      "l_act\n",
      "tensor(0.2367, grad_fn=<ThSubBackward>)\n",
      "l_crit\n",
      "tensor(0.3899, grad_fn=<MeanBackward1>)\n",
      "l_act\n",
      "tensor(-0.0411, grad_fn=<ThSubBackward>)\n",
      "l_crit\n",
      "tensor(0.0007, grad_fn=<MeanBackward1>)\n"
     ]
    },
    {
     "name": "stderr",
     "output_type": "stream",
     "text": [
      "\n",
      " 38%|███▊      | 38104/100000 [51:53<2:09:40,  7.96it/s]\u001b[A\n",
      " 38%|███▊      | 38106/100000 [51:54<1:52:04,  9.20it/s]\u001b[A"
     ]
    },
    {
     "name": "stdout",
     "output_type": "stream",
     "text": [
      "l_act\n",
      "tensor(-0.0411, grad_fn=<ThSubBackward>)\n",
      "l_crit\n",
      "tensor(0.0007, grad_fn=<MeanBackward1>)\n",
      "l_act\n",
      "tensor(-0.0410, grad_fn=<ThSubBackward>)\n",
      "l_crit\n",
      "tensor(0.0007, grad_fn=<MeanBackward1>)\n",
      "l_act\n",
      "tensor(-0.0411, grad_fn=<ThSubBackward>)\n",
      "l_crit\n",
      "tensor(0.0007, grad_fn=<MeanBackward1>)\n"
     ]
    },
    {
     "name": "stderr",
     "output_type": "stream",
     "text": [
      "\n",
      " 38%|███▊      | 38108/100000 [51:54<1:52:49,  9.14it/s]\u001b[A\n",
      " 38%|███▊      | 38110/100000 [51:54<1:39:38, 10.35it/s]\u001b[A"
     ]
    },
    {
     "name": "stdout",
     "output_type": "stream",
     "text": [
      "l_act\n",
      "tensor(-0.0415, grad_fn=<ThSubBackward>)\n",
      "l_crit\n",
      "tensor(0.0007, grad_fn=<MeanBackward1>)\n",
      "l_act\n",
      "tensor(-0.0411, grad_fn=<ThSubBackward>)\n",
      "l_crit\n",
      "tensor(0.0007, grad_fn=<MeanBackward1>)\n",
      "l_act\n",
      "tensor(0.2334, grad_fn=<ThSubBackward>)\n",
      "l_crit\n",
      "tensor(0.3898, grad_fn=<MeanBackward1>)\n"
     ]
    },
    {
     "name": "stderr",
     "output_type": "stream",
     "text": [
      "\n"
     ]
    },
    {
     "name": "stdout",
     "output_type": "stream",
     "text": [
      "l_act\n",
      "tensor(-0.0417, grad_fn=<ThSubBackward>)\n",
      "l_crit\n",
      "tensor(0.0007, grad_fn=<MeanBackward1>)\n",
      "l_act\n",
      "tensor(-0.0418, grad_fn=<ThSubBackward>)\n",
      "l_crit\n",
      "tensor(0.0008, grad_fn=<MeanBackward1>)\n"
     ]
    },
    {
     "name": "stderr",
     "output_type": "stream",
     "text": [
      " 38%|███▊      | 38112/100000 [51:54<1:56:50,  8.83it/s]\u001b[A"
     ]
    },
    {
     "name": "stdout",
     "output_type": "stream",
     "text": [
      "l_act\n",
      "tensor(-0.0411, grad_fn=<ThSubBackward>)\n",
      "l_crit\n",
      "tensor(0.0008, grad_fn=<MeanBackward1>)\n"
     ]
    },
    {
     "name": "stderr",
     "output_type": "stream",
     "text": [
      "\n",
      " 38%|███▊      | 38114/100000 [51:55<3:30:43,  4.89it/s]\u001b[A"
     ]
    },
    {
     "name": "stdout",
     "output_type": "stream",
     "text": [
      "l_act\n",
      "tensor(-0.0417, grad_fn=<ThSubBackward>)\n",
      "l_crit\n",
      "tensor(0.0008, grad_fn=<MeanBackward1>)\n",
      "l_act\n",
      "tensor(-0.0417, grad_fn=<ThSubBackward>)\n",
      "l_crit\n",
      "tensor(0.0008, grad_fn=<MeanBackward1>)\n"
     ]
    },
    {
     "name": "stderr",
     "output_type": "stream",
     "text": [
      "\n",
      " 38%|███▊      | 38116/100000 [51:55<3:16:15,  5.26it/s]\u001b[A"
     ]
    },
    {
     "name": "stdout",
     "output_type": "stream",
     "text": [
      "l_act\n",
      "tensor(-0.0415, grad_fn=<ThSubBackward>)\n",
      "l_crit\n",
      "tensor(0.0008, grad_fn=<MeanBackward1>)\n",
      "l_act\n",
      "tensor(-0.0414, grad_fn=<ThSubBackward>)\n",
      "l_crit\n",
      "tensor(0.0008, grad_fn=<MeanBackward1>)\n"
     ]
    },
    {
     "name": "stderr",
     "output_type": "stream",
     "text": [
      "\n",
      " 38%|███▊      | 38118/100000 [51:56<3:08:07,  5.48it/s]\u001b[A"
     ]
    },
    {
     "name": "stdout",
     "output_type": "stream",
     "text": [
      "l_act\n",
      "tensor(-0.0414, grad_fn=<ThSubBackward>)\n",
      "l_crit\n",
      "tensor(0.0008, grad_fn=<MeanBackward1>)\n"
     ]
    },
    {
     "name": "stderr",
     "output_type": "stream",
     "text": [
      "\n",
      " 38%|███▊      | 38119/100000 [51:56<3:27:04,  4.98it/s]\u001b[A\n",
      " 38%|███▊      | 38120/100000 [51:56<3:07:16,  5.51it/s]\u001b[A"
     ]
    },
    {
     "name": "stdout",
     "output_type": "stream",
     "text": [
      "l_act\n",
      "tensor(-0.0417, grad_fn=<ThSubBackward>)\n",
      "l_crit\n",
      "tensor(0.0008, grad_fn=<MeanBackward1>)\n",
      "l_act\n",
      "tensor(-0.0416, grad_fn=<ThSubBackward>)\n",
      "l_crit\n",
      "tensor(0.0008, grad_fn=<MeanBackward1>)\n"
     ]
    },
    {
     "name": "stderr",
     "output_type": "stream",
     "text": [
      "\n",
      " 38%|███▊      | 38122/100000 [51:56<2:31:12,  6.82it/s]\u001b[A"
     ]
    },
    {
     "name": "stdout",
     "output_type": "stream",
     "text": [
      "l_act\n",
      "tensor(-0.0419, grad_fn=<ThSubBackward>)\n",
      "l_crit\n",
      "tensor(0.0008, grad_fn=<MeanBackward1>)\n",
      "l_act\n",
      "tensor(-0.0415, grad_fn=<ThSubBackward>)\n",
      "l_crit\n",
      "tensor(0.0008, grad_fn=<MeanBackward1>)\n",
      "l_act\n",
      "tensor(-0.0418, grad_fn=<ThSubBackward>)\n",
      "l_crit\n",
      "tensor(0.0008, grad_fn=<MeanBackward1>)\n"
     ]
    },
    {
     "name": "stderr",
     "output_type": "stream",
     "text": [
      "\n",
      " 38%|███▊      | 38124/100000 [51:56<2:09:42,  7.95it/s]\u001b[A"
     ]
    },
    {
     "name": "stdout",
     "output_type": "stream",
     "text": [
      "l_act\n",
      "tensor(0.5077, grad_fn=<ThSubBackward>)\n",
      "l_crit\n",
      "tensor(0.7788, grad_fn=<MeanBackward1>)\n",
      "l_act\n",
      "tensor(0.2375, grad_fn=<ThSubBackward>)\n",
      "l_crit\n",
      "tensor(0.3897, grad_fn=<MeanBackward1>)\n"
     ]
    },
    {
     "name": "stderr",
     "output_type": "stream",
     "text": [
      "\n",
      " 38%|███▊      | 38126/100000 [51:57<2:33:27,  6.72it/s]\u001b[A"
     ]
    },
    {
     "name": "stdout",
     "output_type": "stream",
     "text": [
      "l_act\n",
      "tensor(-0.0417, grad_fn=<ThSubBackward>)\n",
      "l_crit\n",
      "tensor(0.0008, grad_fn=<MeanBackward1>)\n"
     ]
    },
    {
     "name": "stderr",
     "output_type": "stream",
     "text": [
      "\n",
      " 38%|███▊      | 38127/100000 [51:57<3:08:45,  5.46it/s]\u001b[A"
     ]
    },
    {
     "name": "stdout",
     "output_type": "stream",
     "text": [
      "l_act\n",
      "tensor(-0.0419, grad_fn=<ThSubBackward>)\n",
      "l_crit\n",
      "tensor(0.0008, grad_fn=<MeanBackward1>)\n"
     ]
    },
    {
     "name": "stderr",
     "output_type": "stream",
     "text": [
      "\n",
      " 38%|███▊      | 38128/100000 [51:57<3:48:45,  4.51it/s]\u001b[A"
     ]
    },
    {
     "name": "stdout",
     "output_type": "stream",
     "text": [
      "l_act\n",
      "tensor(-0.0417, grad_fn=<ThSubBackward>)\n",
      "l_crit\n",
      "tensor(0.0008, grad_fn=<MeanBackward1>)\n",
      "l_act\n",
      "tensor(-0.0419, grad_fn=<ThSubBackward>)\n",
      "l_crit\n",
      "tensor(0.0008, grad_fn=<MeanBackward1>)\n",
      "l_act\n",
      "tensor(-0.0421, grad_fn=<ThSubBackward>)\n",
      "l_crit\n",
      "tensor(0.0008, grad_fn=<MeanBackward1>)\n"
     ]
    },
    {
     "name": "stderr",
     "output_type": "stream",
     "text": [
      "\n",
      " 38%|███▊      | 38130/100000 [51:58<3:04:59,  5.57it/s]\u001b[A"
     ]
    },
    {
     "name": "stdout",
     "output_type": "stream",
     "text": [
      "l_act\n",
      "tensor(0.3718, grad_fn=<ThSubBackward>)\n",
      "l_crit\n",
      "tensor(0.4840, grad_fn=<MeanBackward1>)\n"
     ]
    },
    {
     "name": "stderr",
     "output_type": "stream",
     "text": [
      "\n",
      " 38%|███▊      | 38132/100000 [51:58<3:25:30,  5.02it/s]\u001b[A\n",
      " 38%|███▊      | 38133/100000 [51:58<2:54:52,  5.90it/s]\u001b[A"
     ]
    },
    {
     "name": "stdout",
     "output_type": "stream",
     "text": [
      "l_act\n",
      "tensor(-0.0419, grad_fn=<ThSubBackward>)\n",
      "l_crit\n",
      "tensor(0.0008, grad_fn=<MeanBackward1>)\n",
      "l_act\n",
      "tensor(-0.0424, grad_fn=<ThSubBackward>)\n",
      "l_crit\n",
      "tensor(0.0008, grad_fn=<MeanBackward1>)\n"
     ]
    },
    {
     "name": "stderr",
     "output_type": "stream",
     "text": [
      "\n",
      " 38%|███▊      | 38134/100000 [51:59<4:20:28,  3.96it/s]\u001b[A\n",
      " 38%|███▊      | 38135/100000 [51:59<3:42:25,  4.64it/s]\u001b[A"
     ]
    },
    {
     "name": "stdout",
     "output_type": "stream",
     "text": [
      "l_act\n",
      "tensor(-0.0425, grad_fn=<ThSubBackward>)\n",
      "l_crit\n",
      "tensor(0.0008, grad_fn=<MeanBackward1>)\n",
      "l_act\n",
      "tensor(-0.0427, grad_fn=<ThSubBackward>)\n",
      "l_crit\n",
      "tensor(0.0008, grad_fn=<MeanBackward1>)\n"
     ]
    },
    {
     "name": "stderr",
     "output_type": "stream",
     "text": [
      "\n",
      " 38%|███▊      | 38137/100000 [51:59<3:14:19,  5.31it/s]\u001b[A"
     ]
    },
    {
     "name": "stdout",
     "output_type": "stream",
     "text": [
      "l_act\n",
      "tensor(-0.0429, grad_fn=<ThSubBackward>)\n",
      "l_crit\n",
      "tensor(0.0008, grad_fn=<MeanBackward1>)\n",
      "l_act\n",
      "tensor(-0.0425, grad_fn=<ThSubBackward>)\n",
      "l_crit\n",
      "tensor(0.0008, grad_fn=<MeanBackward1>)\n"
     ]
    },
    {
     "name": "stderr",
     "output_type": "stream",
     "text": [
      "\n",
      " 38%|███▊      | 38138/100000 [52:00<5:08:43,  3.34it/s]\u001b[A"
     ]
    },
    {
     "name": "stdout",
     "output_type": "stream",
     "text": [
      "l_act\n",
      "tensor(-0.0426, grad_fn=<ThSubBackward>)\n",
      "l_crit\n",
      "tensor(0.0008, grad_fn=<MeanBackward1>)\n",
      "l_act\n",
      "tensor(0.0950, grad_fn=<ThSubBackward>)\n",
      "l_crit\n",
      "tensor(0.0951, grad_fn=<MeanBackward1>)\n"
     ]
    },
    {
     "name": "stderr",
     "output_type": "stream",
     "text": [
      "\n",
      " 38%|███▊      | 38139/100000 [52:01<9:42:47,  1.77it/s]\u001b[A"
     ]
    },
    {
     "name": "stdout",
     "output_type": "stream",
     "text": [
      "l_act\n",
      "tensor(-0.0431, grad_fn=<ThSubBackward>)\n",
      "l_crit\n",
      "tensor(0.0008, grad_fn=<MeanBackward1>)\n"
     ]
    },
    {
     "name": "stderr",
     "output_type": "stream",
     "text": [
      "\n",
      " 38%|███▊      | 38140/100000 [52:03<19:30:15,  1.14s/it]\u001b[A"
     ]
    },
    {
     "name": "stdout",
     "output_type": "stream",
     "text": [
      "l_act\n",
      "tensor(-0.0425, grad_fn=<ThSubBackward>)\n",
      "l_crit\n",
      "tensor(0.0008, grad_fn=<MeanBackward1>)\n"
     ]
    },
    {
     "name": "stderr",
     "output_type": "stream",
     "text": [
      "\n",
      " 38%|███▊      | 38141/100000 [52:06<28:38:28,  1.67s/it]\u001b[A"
     ]
    },
    {
     "name": "stdout",
     "output_type": "stream",
     "text": [
      "l_act\n",
      "tensor(0.2450, grad_fn=<ThSubBackward>)\n",
      "l_crit\n",
      "tensor(0.3895, grad_fn=<MeanBackward1>)\n"
     ]
    },
    {
     "name": "stderr",
     "output_type": "stream",
     "text": [
      "\n",
      " 38%|███▊      | 38142/100000 [52:09<34:14:01,  1.99s/it]\u001b[A"
     ]
    },
    {
     "name": "stdout",
     "output_type": "stream",
     "text": [
      "l_act\n",
      "tensor(0.2445, grad_fn=<ThSubBackward>)\n",
      "l_crit\n",
      "tensor(0.3894, grad_fn=<MeanBackward1>)\n"
     ]
    },
    {
     "name": "stderr",
     "output_type": "stream",
     "text": [
      "\n",
      " 38%|███▊      | 38143/100000 [52:11<35:33:37,  2.07s/it]\u001b[A"
     ]
    },
    {
     "name": "stdout",
     "output_type": "stream",
     "text": [
      "l_act\n",
      "tensor(-0.0429, grad_fn=<ThSubBackward>)\n",
      "l_crit\n",
      "tensor(0.0008, grad_fn=<MeanBackward1>)\n"
     ]
    },
    {
     "name": "stderr",
     "output_type": "stream",
     "text": [
      "\n",
      " 38%|███▊      | 38144/100000 [52:14<41:11:18,  2.40s/it]\u001b[A"
     ]
    },
    {
     "name": "stdout",
     "output_type": "stream",
     "text": [
      "l_act\n",
      "tensor(0.2345, grad_fn=<ThSubBackward>)\n",
      "l_crit\n",
      "tensor(0.3894, grad_fn=<MeanBackward1>)\n"
     ]
    },
    {
     "name": "stderr",
     "output_type": "stream",
     "text": [
      "\n",
      " 38%|███▊      | 38145/100000 [52:18<47:30:24,  2.76s/it]\u001b[A"
     ]
    },
    {
     "name": "stdout",
     "output_type": "stream",
     "text": [
      "l_act\n",
      "tensor(-0.0430, grad_fn=<ThSubBackward>)\n",
      "l_crit\n",
      "tensor(0.0008, grad_fn=<MeanBackward1>)\n"
     ]
    },
    {
     "name": "stderr",
     "output_type": "stream",
     "text": [
      "\n",
      " 38%|███▊      | 38146/100000 [52:22<51:56:30,  3.02s/it]\u001b[A\n",
      " 38%|███▊      | 38147/100000 [52:22<41:15:22,  2.40s/it]\u001b[A"
     ]
    },
    {
     "name": "stdout",
     "output_type": "stream",
     "text": [
      "l_act\n",
      "tensor(-0.0433, grad_fn=<ThSubBackward>)\n",
      "l_crit\n",
      "tensor(0.0008, grad_fn=<MeanBackward1>)\n",
      "l_act\n",
      "tensor(-0.0437, grad_fn=<ThSubBackward>)\n",
      "l_crit\n",
      "tensor(0.0008, grad_fn=<MeanBackward1>)\n"
     ]
    },
    {
     "name": "stderr",
     "output_type": "stream",
     "text": [
      "\n",
      " 38%|███▊      | 38148/100000 [52:23<33:58:28,  1.98s/it]\u001b[A"
     ]
    },
    {
     "name": "stdout",
     "output_type": "stream",
     "text": [
      "l_act\n",
      "tensor(-0.0431, grad_fn=<ThSubBackward>)\n",
      "l_crit\n",
      "tensor(0.0008, grad_fn=<MeanBackward1>)\n"
     ]
    },
    {
     "name": "stderr",
     "output_type": "stream",
     "text": [
      "\n",
      " 38%|███▊      | 38149/100000 [52:25<31:19:45,  1.82s/it]\u001b[A\n",
      " 38%|███▊      | 38150/100000 [52:26<25:14:20,  1.47s/it]\u001b[A"
     ]
    },
    {
     "name": "stdout",
     "output_type": "stream",
     "text": [
      "l_act\n",
      "tensor(-0.0434, grad_fn=<ThSubBackward>)\n",
      "l_crit\n",
      "tensor(0.0008, grad_fn=<MeanBackward1>)\n",
      "l_act\n",
      "tensor(-0.0437, grad_fn=<ThSubBackward>)\n",
      "l_crit\n",
      "tensor(0.0008, grad_fn=<MeanBackward1>)\n"
     ]
    },
    {
     "name": "stderr",
     "output_type": "stream",
     "text": [
      "\n",
      " 38%|███▊      | 38151/100000 [52:27<25:13:53,  1.47s/it]\u001b[A"
     ]
    },
    {
     "name": "stdout",
     "output_type": "stream",
     "text": [
      "l_act\n",
      "tensor(-0.0434, grad_fn=<ThSubBackward>)\n",
      "l_crit\n",
      "tensor(0.0008, grad_fn=<MeanBackward1>)\n"
     ]
    },
    {
     "name": "stderr",
     "output_type": "stream",
     "text": [
      "\n",
      " 38%|███▊      | 38152/100000 [52:35<59:08:13,  3.44s/it]\u001b[A"
     ]
    },
    {
     "name": "stdout",
     "output_type": "stream",
     "text": [
      "l_act\n",
      "tensor(-0.0437, grad_fn=<ThSubBackward>)\n",
      "l_crit\n",
      "tensor(0.0008, grad_fn=<MeanBackward1>)\n"
     ]
    },
    {
     "name": "stderr",
     "output_type": "stream",
     "text": [
      "\n",
      " 38%|███▊      | 38153/100000 [52:41<73:20:10,  4.27s/it]\u001b[A"
     ]
    },
    {
     "name": "stdout",
     "output_type": "stream",
     "text": [
      "l_act\n",
      "tensor(0.2262, grad_fn=<ThSubBackward>)\n",
      "l_crit\n",
      "tensor(0.3892, grad_fn=<MeanBackward1>)\n"
     ]
    },
    {
     "name": "stderr",
     "output_type": "stream",
     "text": [
      "\n",
      " 38%|███▊      | 38154/100000 [52:46<76:41:05,  4.46s/it]\u001b[A\n",
      " 38%|███▊      | 38155/100000 [52:47<59:03:47,  3.44s/it]\u001b[A\n",
      " 38%|███▊      | 38156/100000 [52:47<42:17:03,  2.46s/it]\u001b[A"
     ]
    },
    {
     "name": "stdout",
     "output_type": "stream",
     "text": [
      "l_act\n",
      "tensor(-0.0439, grad_fn=<ThSubBackward>)\n",
      "l_crit\n",
      "tensor(0.0008, grad_fn=<MeanBackward1>)\n",
      "l_act\n",
      "tensor(0.2430, grad_fn=<ThSubBackward>)\n",
      "l_crit\n",
      "tensor(0.3892, grad_fn=<MeanBackward1>)\n",
      "l_act\n",
      "tensor(-0.0443, grad_fn=<ThSubBackward>)\n",
      "l_crit\n",
      "tensor(0.0009, grad_fn=<MeanBackward1>)\n",
      "l_act\n",
      "tensor(0.0963, grad_fn=<ThSubBackward>)\n",
      "l_crit\n",
      "tensor(0.0950, grad_fn=<MeanBackward1>)\n"
     ]
    },
    {
     "name": "stderr",
     "output_type": "stream",
     "text": [
      "\n",
      " 38%|███▊      | 38158/100000 [52:48<30:17:00,  1.76s/it]\u001b[A\n",
      " 38%|███▊      | 38159/100000 [52:49<28:09:01,  1.64s/it]\u001b[A"
     ]
    },
    {
     "name": "stdout",
     "output_type": "stream",
     "text": [
      "l_act\n",
      "tensor(-0.0441, grad_fn=<ThSubBackward>)\n",
      "l_crit\n",
      "tensor(0.0009, grad_fn=<MeanBackward1>)\n"
     ]
    },
    {
     "name": "stderr",
     "output_type": "stream",
     "text": [
      "\n",
      " 38%|███▊      | 38160/100000 [52:49<20:57:20,  1.22s/it]\u001b[A"
     ]
    },
    {
     "name": "stdout",
     "output_type": "stream",
     "text": [
      "l_act\n",
      "tensor(-0.0438, grad_fn=<ThSubBackward>)\n",
      "l_crit\n",
      "tensor(0.0009, grad_fn=<MeanBackward1>)\n"
     ]
    },
    {
     "name": "stderr",
     "output_type": "stream",
     "text": [
      "\n",
      " 38%|███▊      | 38161/100000 [52:50<16:37:48,  1.03it/s]\u001b[A"
     ]
    },
    {
     "name": "stdout",
     "output_type": "stream",
     "text": [
      "l_act\n",
      "tensor(-0.0444, grad_fn=<ThSubBackward>)\n",
      "l_crit\n",
      "tensor(0.0009, grad_fn=<MeanBackward1>)\n"
     ]
    },
    {
     "name": "stderr",
     "output_type": "stream",
     "text": [
      "\n",
      " 38%|███▊      | 38162/100000 [52:50<13:20:13,  1.29it/s]\u001b[A"
     ]
    },
    {
     "name": "stdout",
     "output_type": "stream",
     "text": [
      "l_act\n",
      "tensor(-0.0447, grad_fn=<ThSubBackward>)\n",
      "l_crit\n",
      "tensor(0.0009, grad_fn=<MeanBackward1>)\n"
     ]
    },
    {
     "name": "stderr",
     "output_type": "stream",
     "text": [
      "\n",
      " 38%|███▊      | 38163/100000 [52:51<12:47:01,  1.34it/s]\u001b[A"
     ]
    },
    {
     "name": "stdout",
     "output_type": "stream",
     "text": [
      "l_act\n",
      "tensor(-0.0446, grad_fn=<ThSubBackward>)\n",
      "l_crit\n",
      "tensor(0.0009, grad_fn=<MeanBackward1>)\n",
      "l_act\n",
      "tensor(-0.0445, grad_fn=<ThSubBackward>)\n",
      "l_crit\n",
      "tensor(0.0009, grad_fn=<MeanBackward1>)\n"
     ]
    },
    {
     "name": "stderr",
     "output_type": "stream",
     "text": [
      "\n",
      " 38%|███▊      | 38165/100000 [52:51<9:41:12,  1.77it/s] \u001b[A"
     ]
    },
    {
     "name": "stdout",
     "output_type": "stream",
     "text": [
      "l_act\n",
      "tensor(-0.0446, grad_fn=<ThSubBackward>)\n",
      "l_crit\n",
      "tensor(0.0009, grad_fn=<MeanBackward1>)\n"
     ]
    },
    {
     "name": "stderr",
     "output_type": "stream",
     "text": [
      "\n",
      " 38%|███▊      | 38166/100000 [52:53<15:38:41,  1.10it/s]\u001b[A"
     ]
    },
    {
     "name": "stdout",
     "output_type": "stream",
     "text": [
      "l_act\n",
      "tensor(-0.0446, grad_fn=<ThSubBackward>)\n",
      "l_crit\n",
      "tensor(0.0009, grad_fn=<MeanBackward1>)\n"
     ]
    },
    {
     "name": "stderr",
     "output_type": "stream",
     "text": [
      "\n",
      " 38%|███▊      | 38167/100000 [52:53<12:11:26,  1.41it/s]\u001b[A\n",
      " 38%|███▊      | 38168/100000 [52:53<9:12:04,  1.87it/s] \u001b[A"
     ]
    },
    {
     "name": "stdout",
     "output_type": "stream",
     "text": [
      "l_act\n",
      "tensor(-0.0447, grad_fn=<ThSubBackward>)\n",
      "l_crit\n",
      "tensor(0.0009, grad_fn=<MeanBackward1>)\n",
      "l_act\n",
      "tensor(-0.0443, grad_fn=<ThSubBackward>)\n",
      "l_crit\n",
      "tensor(0.0009, grad_fn=<MeanBackward1>)\n"
     ]
    },
    {
     "name": "stderr",
     "output_type": "stream",
     "text": [
      "\n",
      " 38%|███▊      | 38169/100000 [52:54<9:21:48,  1.83it/s]\u001b[A"
     ]
    },
    {
     "name": "stdout",
     "output_type": "stream",
     "text": [
      "l_act\n",
      "tensor(-0.0446, grad_fn=<ThSubBackward>)\n",
      "l_crit\n",
      "tensor(0.0009, grad_fn=<MeanBackward1>)\n",
      "l_act\n",
      "tensor(-0.0445, grad_fn=<ThSubBackward>)\n",
      "l_crit\n",
      "tensor(0.0009, grad_fn=<MeanBackward1>)\n"
     ]
    },
    {
     "name": "stderr",
     "output_type": "stream",
     "text": [
      "\n",
      " 38%|███▊      | 38171/100000 [52:54<7:27:38,  2.30it/s]\u001b[A"
     ]
    },
    {
     "name": "stdout",
     "output_type": "stream",
     "text": [
      "l_act\n",
      "tensor(-0.0447, grad_fn=<ThSubBackward>)\n",
      "l_crit\n",
      "tensor(0.0009, grad_fn=<MeanBackward1>)\n"
     ]
    },
    {
     "name": "stderr",
     "output_type": "stream",
     "text": [
      "\n",
      " 38%|███▊      | 38172/100000 [52:54<6:29:15,  2.65it/s]\u001b[A"
     ]
    },
    {
     "name": "stdout",
     "output_type": "stream",
     "text": [
      "l_act\n",
      "tensor(-0.0444, grad_fn=<ThSubBackward>)\n",
      "l_crit\n",
      "tensor(0.0009, grad_fn=<MeanBackward1>)\n"
     ]
    },
    {
     "name": "stderr",
     "output_type": "stream",
     "text": [
      "\n",
      " 38%|███▊      | 38173/100000 [52:55<9:00:18,  1.91it/s]\u001b[A\n",
      " 38%|███▊      | 38174/100000 [52:55<6:58:51,  2.46it/s]\u001b[A"
     ]
    },
    {
     "name": "stdout",
     "output_type": "stream",
     "text": [
      "l_act\n",
      "tensor(-0.0445, grad_fn=<ThSubBackward>)\n",
      "l_crit\n",
      "tensor(0.0009, grad_fn=<MeanBackward1>)\n",
      "l_act\n",
      "tensor(-0.0444, grad_fn=<ThSubBackward>)\n",
      "l_crit\n",
      "tensor(0.0009, grad_fn=<MeanBackward1>)\n"
     ]
    },
    {
     "name": "stderr",
     "output_type": "stream",
     "text": [
      "\n",
      " 38%|███▊      | 38176/100000 [52:55<5:13:37,  3.29it/s]\u001b[A"
     ]
    },
    {
     "name": "stdout",
     "output_type": "stream",
     "text": [
      "l_act\n",
      "tensor(0.2340, grad_fn=<ThSubBackward>)\n",
      "l_crit\n",
      "tensor(0.3891, grad_fn=<MeanBackward1>)\n",
      "l_act\n",
      "tensor(-0.0449, grad_fn=<ThSubBackward>)\n",
      "l_crit\n",
      "tensor(0.0009, grad_fn=<MeanBackward1>)\n",
      "l_act\n",
      "tensor(0.2292, grad_fn=<ThSubBackward>)\n",
      "l_crit\n",
      "tensor(0.3891, grad_fn=<MeanBackward1>)\n",
      "l_act\n",
      "tensor(0.2336, grad_fn=<ThSubBackward>)\n",
      "l_crit\n",
      "tensor(0.3891, grad_fn=<MeanBackward1>)\n"
     ]
    },
    {
     "name": "stderr",
     "output_type": "stream",
     "text": [
      "\n",
      " 38%|███▊      | 38179/100000 [52:55<3:54:25,  4.40it/s]\u001b[A"
     ]
    },
    {
     "name": "stdout",
     "output_type": "stream",
     "text": [
      "l_act\n",
      "tensor(-0.0445, grad_fn=<ThSubBackward>)\n",
      "l_crit\n",
      "tensor(0.0009, grad_fn=<MeanBackward1>)\n",
      "l_act\n",
      "tensor(-0.0443, grad_fn=<ThSubBackward>)\n",
      "l_crit\n",
      "tensor(0.0009, grad_fn=<MeanBackward1>)\n",
      "l_act\n",
      "tensor(0.2324, grad_fn=<ThSubBackward>)\n",
      "l_crit\n",
      "tensor(0.3890, grad_fn=<MeanBackward1>)\n"
     ]
    },
    {
     "name": "stderr",
     "output_type": "stream",
     "text": [
      "\n",
      " 38%|███▊      | 38181/100000 [52:56<3:16:07,  5.25it/s]\u001b[A"
     ]
    },
    {
     "name": "stdout",
     "output_type": "stream",
     "text": [
      "l_act\n",
      "tensor(-0.0448, grad_fn=<ThSubBackward>)\n",
      "l_crit\n",
      "tensor(0.0009, grad_fn=<MeanBackward1>)\n"
     ]
    },
    {
     "name": "stderr",
     "output_type": "stream",
     "text": [
      "\n",
      " 38%|███▊      | 38183/100000 [52:56<3:39:19,  4.70it/s]\u001b[A\n",
      " 38%|███▊      | 38184/100000 [52:56<3:05:55,  5.54it/s]\u001b[A"
     ]
    },
    {
     "name": "stdout",
     "output_type": "stream",
     "text": [
      "l_act\n",
      "tensor(-0.0452, grad_fn=<ThSubBackward>)\n",
      "l_crit\n",
      "tensor(0.0009, grad_fn=<MeanBackward1>)\n",
      "l_act\n",
      "tensor(0.2243, grad_fn=<ThSubBackward>)\n",
      "l_crit\n",
      "tensor(0.3889, grad_fn=<MeanBackward1>)\n"
     ]
    },
    {
     "name": "stderr",
     "output_type": "stream",
     "text": [
      "\n",
      " 38%|███▊      | 38185/100000 [52:57<3:24:53,  5.03it/s]\u001b[A"
     ]
    },
    {
     "name": "stdout",
     "output_type": "stream",
     "text": [
      "l_act\n",
      "tensor(-0.0454, grad_fn=<ThSubBackward>)\n",
      "l_crit\n",
      "tensor(0.0009, grad_fn=<MeanBackward1>)\n",
      "l_act\n",
      "tensor(-0.0457, grad_fn=<ThSubBackward>)\n",
      "l_crit\n",
      "tensor(0.0009, grad_fn=<MeanBackward1>)\n"
     ]
    },
    {
     "name": "stderr",
     "output_type": "stream",
     "text": [
      "\n",
      " 38%|███▊      | 38187/100000 [52:57<3:03:50,  5.60it/s]\u001b[A"
     ]
    },
    {
     "name": "stdout",
     "output_type": "stream",
     "text": [
      "l_act\n",
      "tensor(-0.0453, grad_fn=<ThSubBackward>)\n",
      "l_crit\n",
      "tensor(0.0009, grad_fn=<MeanBackward1>)\n"
     ]
    },
    {
     "name": "stderr",
     "output_type": "stream",
     "text": [
      "\n",
      " 38%|███▊      | 38188/100000 [52:58<8:35:37,  2.00it/s]\u001b[A\n",
      " 38%|███▊      | 38190/100000 [52:58<6:21:19,  2.70it/s]\u001b[A"
     ]
    },
    {
     "name": "stdout",
     "output_type": "stream",
     "text": [
      "l_act\n",
      "tensor(-0.0457, grad_fn=<ThSubBackward>)\n",
      "l_crit\n",
      "tensor(0.0009, grad_fn=<MeanBackward1>)\n",
      "l_act\n",
      "tensor(-0.0458, grad_fn=<ThSubBackward>)\n",
      "l_crit\n",
      "tensor(0.0009, grad_fn=<MeanBackward1>)\n",
      "l_act\n",
      "tensor(-0.4734, grad_fn=<ThSubBackward>)\n",
      "l_crit\n",
      "tensor(0.9275, grad_fn=<MeanBackward1>)\n",
      "l_act\n",
      "tensor(-0.0459, grad_fn=<ThSubBackward>)\n",
      "l_crit\n",
      "tensor(0.0009, grad_fn=<MeanBackward1>)\n",
      "l_act\n",
      "tensor(-0.0454, grad_fn=<ThSubBackward>)\n",
      "l_crit\n",
      "tensor(0.0009, grad_fn=<MeanBackward1>)\n",
      "l_act\n",
      "tensor(-0.0454, grad_fn=<ThSubBackward>)\n",
      "l_crit\n",
      "tensor(0.0009, grad_fn=<MeanBackward1>)\n"
     ]
    },
    {
     "name": "stderr",
     "output_type": "stream",
     "text": [
      "\n",
      " 38%|███▊      | 38193/100000 [52:59<5:22:00,  3.20it/s]\u001b[A\n",
      " 38%|███▊      | 38194/100000 [52:59<4:23:12,  3.91it/s]\u001b[A"
     ]
    },
    {
     "name": "stdout",
     "output_type": "stream",
     "text": [
      "l_act\n",
      "tensor(-0.0449, grad_fn=<ThSubBackward>)\n",
      "l_crit\n",
      "tensor(0.0009, grad_fn=<MeanBackward1>)\n",
      "l_act\n",
      "tensor(-0.0455, grad_fn=<ThSubBackward>)\n",
      "l_crit\n",
      "tensor(0.0009, grad_fn=<MeanBackward1>)\n"
     ]
    },
    {
     "name": "stderr",
     "output_type": "stream",
     "text": [
      "\n",
      " 38%|███▊      | 38196/100000 [52:59<4:14:15,  4.05it/s]\u001b[A"
     ]
    },
    {
     "name": "stdout",
     "output_type": "stream",
     "text": [
      "l_act\n",
      "tensor(-0.0455, grad_fn=<ThSubBackward>)\n",
      "l_crit\n",
      "tensor(0.0009, grad_fn=<MeanBackward1>)\n"
     ]
    },
    {
     "name": "stderr",
     "output_type": "stream",
     "text": [
      "\n",
      " 38%|███▊      | 38197/100000 [53:00<6:00:19,  2.86it/s]\u001b[A"
     ]
    },
    {
     "name": "stdout",
     "output_type": "stream",
     "text": [
      "l_act\n",
      "tensor(-0.0447, grad_fn=<ThSubBackward>)\n",
      "l_crit\n",
      "tensor(0.0009, grad_fn=<MeanBackward1>)\n",
      "l_act\n",
      "tensor(-0.0450, grad_fn=<ThSubBackward>)\n",
      "l_crit\n",
      "tensor(0.0009, grad_fn=<MeanBackward1>)\n"
     ]
    },
    {
     "name": "stderr",
     "output_type": "stream",
     "text": [
      "\n",
      " 38%|███▊      | 38198/100000 [53:00<5:09:16,  3.33it/s]\u001b[A"
     ]
    },
    {
     "name": "stdout",
     "output_type": "stream",
     "text": [
      "l_act\n",
      "tensor(-0.0455, grad_fn=<ThSubBackward>)\n",
      "l_crit\n",
      "tensor(0.0009, grad_fn=<MeanBackward1>)\n",
      "l_act\n",
      "tensor(-0.0452, grad_fn=<ThSubBackward>)\n",
      "l_crit\n",
      "tensor(0.0009, grad_fn=<MeanBackward1>)\n"
     ]
    },
    {
     "name": "stderr",
     "output_type": "stream",
     "text": [
      "\n",
      " 38%|███▊      | 38200/100000 [53:00<4:12:40,  4.08it/s]\u001b[A"
     ]
    },
    {
     "name": "stdout",
     "output_type": "stream",
     "text": [
      "l_act\n",
      "tensor(-0.0447, grad_fn=<ThSubBackward>)\n",
      "l_crit\n",
      "tensor(0.0009, grad_fn=<MeanBackward1>)\n"
     ]
    },
    {
     "name": "stderr",
     "output_type": "stream",
     "text": [
      "\n",
      " 38%|███▊      | 38201/100000 [53:05<26:57:56,  1.57s/it]\u001b[A"
     ]
    },
    {
     "name": "stdout",
     "output_type": "stream",
     "text": [
      "l_act\n",
      "tensor(-0.0452, grad_fn=<ThSubBackward>)\n",
      "l_crit\n",
      "tensor(0.0009, grad_fn=<MeanBackward1>)\n"
     ]
    },
    {
     "name": "stderr",
     "output_type": "stream",
     "text": [
      "\n",
      " 38%|███▊      | 38202/100000 [53:11<47:28:00,  2.77s/it]\u001b[A"
     ]
    },
    {
     "name": "stdout",
     "output_type": "stream",
     "text": [
      "l_act\n",
      "tensor(-0.0452, grad_fn=<ThSubBackward>)\n",
      "l_crit\n",
      "tensor(0.0009, grad_fn=<MeanBackward1>)\n"
     ]
    },
    {
     "name": "stderr",
     "output_type": "stream",
     "text": [
      "\n",
      " 38%|███▊      | 38203/100000 [53:15<55:51:07,  3.25s/it]\u001b[A"
     ]
    },
    {
     "name": "stdout",
     "output_type": "stream",
     "text": [
      "l_act\n",
      "tensor(-0.0440, grad_fn=<ThSubBackward>)\n",
      "l_crit\n",
      "tensor(0.0009, grad_fn=<MeanBackward1>)\n"
     ]
    },
    {
     "name": "stderr",
     "output_type": "stream",
     "text": [
      "\n",
      " 38%|███▊      | 38204/100000 [53:21<68:22:29,  3.98s/it]\u001b[A"
     ]
    },
    {
     "name": "stdout",
     "output_type": "stream",
     "text": [
      "l_act\n",
      "tensor(-0.0451, grad_fn=<ThSubBackward>)\n",
      "l_crit\n",
      "tensor(0.0009, grad_fn=<MeanBackward1>)\n"
     ]
    },
    {
     "name": "stderr",
     "output_type": "stream",
     "text": [
      "\n",
      " 38%|███▊      | 38205/100000 [53:27<81:19:47,  4.74s/it]\u001b[A"
     ]
    },
    {
     "name": "stdout",
     "output_type": "stream",
     "text": [
      "l_act\n",
      "tensor(-0.0447, grad_fn=<ThSubBackward>)\n",
      "l_crit\n",
      "tensor(0.0009, grad_fn=<MeanBackward1>)\n"
     ]
    },
    {
     "name": "stderr",
     "output_type": "stream",
     "text": [
      "\n",
      " 38%|███▊      | 38206/100000 [53:30<74:03:20,  4.31s/it]\u001b[A"
     ]
    },
    {
     "name": "stdout",
     "output_type": "stream",
     "text": [
      "l_act\n",
      "tensor(-0.0451, grad_fn=<ThSubBackward>)\n",
      "l_crit\n",
      "tensor(0.0009, grad_fn=<MeanBackward1>)\n"
     ]
    },
    {
     "name": "stderr",
     "output_type": "stream",
     "text": [
      "\n",
      " 38%|███▊      | 38207/100000 [53:34<71:25:54,  4.16s/it]\u001b[A"
     ]
    },
    {
     "name": "stdout",
     "output_type": "stream",
     "text": [
      "l_act\n",
      "tensor(-0.0438, grad_fn=<ThSubBackward>)\n",
      "l_crit\n",
      "tensor(0.0009, grad_fn=<MeanBackward1>)\n"
     ]
    },
    {
     "name": "stderr",
     "output_type": "stream",
     "text": [
      "\n",
      " 38%|███▊      | 38208/100000 [53:39<73:24:10,  4.28s/it]\u001b[A"
     ]
    },
    {
     "name": "stdout",
     "output_type": "stream",
     "text": [
      "l_act\n",
      "tensor(0.0888, grad_fn=<ThSubBackward>)\n",
      "l_crit\n",
      "tensor(0.0950, grad_fn=<MeanBackward1>)\n"
     ]
    },
    {
     "name": "stderr",
     "output_type": "stream",
     "text": [
      "\n",
      " 38%|███▊      | 38209/100000 [53:43<74:47:40,  4.36s/it]\u001b[A"
     ]
    },
    {
     "name": "stdout",
     "output_type": "stream",
     "text": [
      "l_act\n",
      "tensor(-0.0434, grad_fn=<ThSubBackward>)\n",
      "l_crit\n",
      "tensor(0.0009, grad_fn=<MeanBackward1>)\n"
     ]
    },
    {
     "name": "stderr",
     "output_type": "stream",
     "text": [
      "\n",
      " 38%|███▊      | 38210/100000 [53:51<90:48:07,  5.29s/it]\u001b[A"
     ]
    },
    {
     "name": "stdout",
     "output_type": "stream",
     "text": [
      "l_act\n",
      "tensor(-0.0438, grad_fn=<ThSubBackward>)\n",
      "l_crit\n",
      "tensor(0.0009, grad_fn=<MeanBackward1>)\n"
     ]
    },
    {
     "name": "stderr",
     "output_type": "stream",
     "text": [
      "\n",
      " 38%|███▊      | 38211/100000 [54:00<108:51:45,  6.34s/it]\u001b[A"
     ]
    }
   ],
   "source": [
    "for i in trange(100000): \n",
    "    batch_states = torch.tensor(batch_states)\n",
    "    batch_actions = agent.sample_actions(agent(batch_states))\n",
    "    batch_next_states, batch_rewards, batch_done, _ = env_batch.step(batch_actions)\n",
    "    \n",
    "    l_act, l_crit, adv, ent_t = gen_actor_critic_loss(agent, batch_states, \n",
    "                                               batch_next_states, batch_rewards,\n",
    "                                               batch_done, batch_actions)\n",
    "    print('l_act')\n",
    "    print(l_act)\n",
    "    print('l_crit')\n",
    "    print(l_crit)\n",
    "    optimizer.zero_grad()\n",
    "    loss = l_act + l_crit\n",
    "    loss.backward()\n",
    "    optimizer.step()\n",
    "    \n",
    "    entropy_history.append(ent_t.mean())\n",
    "\n",
    "    batch_states = batch_next_states\n",
    "    \n",
    "    if i % 500 == 0: \n",
    "        if i % 2500 == 0:\n",
    "            rewards_history.append(np.mean(evaluate(agent, env, n_games=3)))\n",
    "            if rewards_history[-1] >= 50:\n",
    "                print(\"Your agent has earned the yellow belt\" % color)\n",
    "\n",
    "        clear_output(True)\n",
    "        plt.figure(figsize=[8,4])\n",
    "        plt.subplot(1,2,1)\n",
    "        plt.plot(rewards_history, label='rewards')\n",
    "        plt.plot(ewma(np.array(rewards_history),span=10), marker='.', label='rewards ewma@10')\n",
    "        plt.title(\"Session rewards\"); plt.grid(); plt.legend()\n",
    "        \n",
    "        plt.subplot(1,2,2)\n",
    "        plt.plot(entropy_history, label='entropy')\n",
    "        plt.plot(ewma(np.array(entropy_history),span=1000), label='entropy ewma@1000')\n",
    "        plt.title(\"Policy entropy\"); plt.grid(); plt.legend()        \n",
    "        plt.show()\n",
    "        \n",
    "        \n",
    "\n"
   ]
  },
  {
   "cell_type": "markdown",
   "metadata": {},
   "source": [
    "Relax and grab some refreshments while your agent is locked in an infinite loop of violence and death.\n",
    "\n",
    "__How to interpret plots:__\n",
    "\n",
    "The session reward is the easy thing: it should in general go up over time, but it's okay if it fluctuates ~~like crazy~~. It's also OK if it reward doesn't increase substantially before some 10k initial steps. However, if reward reaches zero and doesn't seem to get up over 2-3 evaluations, there's something wrong happening.\n",
    "\n",
    "\n",
    "Since we use a policy-based method, we also keep track of __policy entropy__ - the same one you used as a regularizer. The only important thing about it is that your entropy shouldn't drop too low (`< 0.1`) before your agent gets the yellow belt. Or at least it can drop there, but _it shouldn't stay there for long_.\n",
    "\n",
    "If it does, the culprit is likely:\n",
    "* Some bug in entropy computation. Remember that it is $ - \\sum p(a_i) \\cdot log p(a_i) $\n",
    "* Your agent architecture converges too fast. Increase entropy coefficient in actor loss. \n",
    "* Gradient explosion - just [clip gradients](https://stackoverflow.com/a/43486487) and maybe use a smaller network\n",
    "* Us. Or TF developers. Or aliens. Or lizardfolk. Contact us on forums before it's too late!\n",
    "\n",
    "If you're debugging, just run `logits, values = agent.step(batch_states)` and manually look into logits and values. This will reveal the problem 9 times out of 10: you'll likely see some NaNs or insanely large numbers or zeros. Try to catch the moment when this happens for the first time and investigate from there."
   ]
  },
  {
   "cell_type": "markdown",
   "metadata": {},
   "source": [
    "### \"Final\" evaluation"
   ]
  },
  {
   "cell_type": "code",
   "execution_count": null,
   "metadata": {
    "collapsed": true
   },
   "outputs": [],
   "source": [
    "env_monitor = gym.wrappers.Monitor(env, directory=\"kungfu_videos\", force=True)\n",
    "final_rewards = evaluate(agent, env_monitor, n_games=20,)\n",
    "env_monitor.close()\n",
    "print(\"Final mean reward:\", np.mean(final_rewards))\n",
    "\n",
    "video_names = list(filter(lambda s:s.endswith(\".mp4\"),os.listdir(\"./kungfu_videos/\")))"
   ]
  },
  {
   "cell_type": "code",
   "execution_count": null,
   "metadata": {
    "collapsed": true
   },
   "outputs": [],
   "source": [
    "HTML(\"\"\"\n",
    "<video width=\"640\" height=\"480\" controls>\n",
    "  <source src=\"{}\" type=\"video/mp4\">\n",
    "</video>\n",
    "\"\"\".format(\"./kungfu_videos/\"+video_names[-1])) "
   ]
  },
  {
   "cell_type": "code",
   "execution_count": null,
   "metadata": {
    "collapsed": true
   },
   "outputs": [],
   "source": [
    "HTML(\"\"\"\n",
    "<video width=\"640\" height=\"480\" controls>\n",
    "  <source src=\"{}\" type=\"video/mp4\">\n",
    "</video>\n",
    "\"\"\".format(\"./kungfu_videos/\"+video_names[-2])) #try other indices "
   ]
  },
  {
   "cell_type": "code",
   "execution_count": null,
   "metadata": {
    "collapsed": true
   },
   "outputs": [],
   "source": [
    "# if you don't see videos, just navigate to ./kungfu_videos and download .mp4 files from there."
   ]
  },
  {
   "cell_type": "code",
   "execution_count": null,
   "metadata": {
    "collapsed": true
   },
   "outputs": [],
   "source": [
    "from submit import submit_kungfu\n",
    "env = make_env()\n",
    "submit_kungfu(agent, env, evaluate, <EMAIL>, <TOKEN>)"
   ]
  },
  {
   "cell_type": "markdown",
   "metadata": {},
   "source": [
    "```\n",
    "\n",
    "```\n",
    "```\n",
    "\n",
    "```\n",
    "```\n",
    "\n",
    "```\n",
    "```\n",
    "\n",
    "```\n",
    "```\n",
    "\n",
    "```\n",
    "```\n",
    "\n",
    "```\n",
    "```\n",
    "\n",
    "```\n",
    "```\n",
    "\n",
    "```\n"
   ]
  },
  {
   "cell_type": "markdown",
   "metadata": {},
   "source": [
    "### Now what?\n",
    "Well, 5k reward is [just the beginning](https://www.buzzfeed.com/mattjayyoung/what-the-color-of-your-karate-belt-actually-means-lg3g). Can you get past 200? With recurrent neural network memory, chances are you can even beat 400!\n",
    "\n",
    "* Try n-step advantage and \"lambda\"-advantage (aka GAE) - see [this article](https://arxiv.org/abs/1506.02438)\n",
    " * This change should improve early convergence a lot\n",
    "* Try recurrent neural network \n",
    " * RNN memory will slow things down initially, but in will reach better final reward at this game\n",
    "* Implement asynchronuous version\n",
    " * Remember [A3C](https://arxiv.org/abs/1602.01783)? The first \"A\" stands for asynchronuous. It means there are several parallel actor-learners out there.\n",
    " * You can write custom code for synchronization, but we recommend using [redis](https://redis.io/)\n",
    "   * You can store full parameter set in redis, along with any other metadate\n",
    "   * Here's a _quick_ way to (de)serialize parameters for redis\n",
    "   ```\n",
    "   import joblib\n",
    "   from six import BytesIO\n",
    "```\n",
    "```\n",
    "   def dumps(data):\n",
    "        \"converts whatever to string\"\n",
    "        s = BytesIO()\n",
    "        joblib.dump(data,s)\n",
    "        return s.getvalue()\n",
    "``` \n",
    "```\n",
    "    def loads(string):\n",
    "        \"converts string to whatever was dumps'ed in it\"\n",
    "        return joblib.load(BytesIO(string))\n",
    "```"
   ]
  }
 ],
 "metadata": {
  "anaconda-cloud": {},
  "kernelspec": {
   "display_name": "Python 2",
   "language": "python",
   "name": "python2"
  },
  "language_info": {
   "codemirror_mode": {
    "name": "ipython",
    "version": 3
   },
   "file_extension": ".py",
   "mimetype": "text/x-python",
   "name": "python",
   "nbconvert_exporter": "python",
   "pygments_lexer": "ipython3",
   "version": "3.6.6"
  }
 },
 "nbformat": 4,
 "nbformat_minor": 1
}
